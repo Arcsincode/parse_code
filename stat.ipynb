# ??????csv
if 1:
    df = reFormat.to_dataframe(res_dicts)
    # # ?csv????????
    # df.to_csv(f"./res/{SEARCH_RES_NAME}.csv",index=False,)
    # ???????
    # df2 = df.groupby(['secCode','announcement_year'])['announcementTitle'].count()
    # df2.to_csv(f"./res/{SEARCH_RES_NAME}_yearly.csv")
    df2 = pandas.pivot_table(df,index=["secCode",'secName',"announcement_year"],values = ["announcementId"],aggfunc= ['count'],).reset_index().values
    parse_res_dicts = pandas.DataFrame(df2,columns=['secCode','secName','announcement_year','counts']).to_dict(orient = 'records')
    print(parse_res_dicts)
    TABLE_res_INFO = {
    'secCode':'VARCHAR(20) NOT NULL',
    'secName':'VARCHAR(30) NOT NULL',
    'announcement_year':'YEAR', # ?????'2018'
    'counts':'INT',
