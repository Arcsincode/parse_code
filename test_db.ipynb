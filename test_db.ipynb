{
 "cells": [
  {
   "cell_type": "markdown",
   "metadata": {},
   "source": [
    "### 连接数据库"
   ]
  },
  {
   "cell_type": "code",
   "execution_count": 4,
   "metadata": {},
   "outputs": [],
   "source": [
    "import config"
   ]
  },
  {
   "cell_type": "code",
   "execution_count": 5,
   "metadata": {},
   "outputs": [],
   "source": [
    "from config import database_config\n",
    "db_config = database_config.connect_config"
   ]
  },
  {
   "cell_type": "code",
   "execution_count": 3,
   "metadata": {},
   "outputs": [],
   "source": [
    "import pymysql"
   ]
  },
  {
   "cell_type": "code",
   "execution_count": 479,
   "metadata": {},
   "outputs": [
    {
     "name": "stdout",
     "output_type": "stream",
     "text": [
      "Ready to sleep 5s ...\n",
      "Ready to sleep 5s ...\n"
     ]
    }
   ],
   "source": [
    "db = pymysql.connect(**db_config,)"
   ]
  },
  {
   "cell_type": "code",
   "execution_count": 481,
   "metadata": {},
   "outputs": [
    {
     "name": "stdout",
     "output_type": "stream",
     "text": [
      "Ready to sleep 5s ...\n"
     ]
    }
   ],
   "source": [
    "cursor = db.cursor()"
   ]
  },
  {
   "cell_type": "code",
   "execution_count": 432,
   "metadata": {},
   "outputs": [
    {
     "data": {
      "text/plain": [
       "5"
      ]
     },
     "execution_count": 432,
     "metadata": {},
     "output_type": "execute_result"
    }
   ],
   "source": [
    "cursor.execute(\"SHOW DATABASES;\")"
   ]
  },
  {
   "cell_type": "code",
   "execution_count": 433,
   "metadata": {},
   "outputs": [
    {
     "data": {
      "text/plain": [
       "(('Juchao',),\n",
       " ('information_schema',),\n",
       " ('mysql',),\n",
       " ('performance_schema',),\n",
       " ('sys',))"
      ]
     },
     "execution_count": 433,
     "metadata": {},
     "output_type": "execute_result"
    }
   ],
   "source": [
    "cursor.fetchall()"
   ]
  },
  {
   "cell_type": "code",
   "execution_count": 293,
   "metadata": {},
   "outputs": [
    {
     "data": {
      "text/plain": [
       "0"
      ]
     },
     "execution_count": 293,
     "metadata": {},
     "output_type": "execute_result"
    }
   ],
   "source": [
    "cursor.execute(\"use Juchao;\")\n"
   ]
  },
  {
   "cell_type": "code",
   "execution_count": 23,
   "metadata": {},
   "outputs": [
    {
     "data": {
      "text/plain": [
       "()"
      ]
     },
     "execution_count": 23,
     "metadata": {},
     "output_type": "execute_result"
    }
   ],
   "source": [
    "cursor.fetchall()\n"
   ]
  },
  {
   "cell_type": "code",
   "execution_count": 294,
   "metadata": {},
   "outputs": [
    {
     "data": {
      "text/plain": [
       "2"
      ]
     },
     "execution_count": 294,
     "metadata": {},
     "output_type": "execute_result"
    }
   ],
   "source": [
    "cursor.execute(\"SHOW TABLES;\")\n"
   ]
  },
  {
   "cell_type": "code",
   "execution_count": 25,
   "metadata": {},
   "outputs": [
    {
     "data": {
      "text/plain": [
       "(('社会',),)"
      ]
     },
     "execution_count": 25,
     "metadata": {},
     "output_type": "execute_result"
    }
   ],
   "source": [
    "cursor.fetchall()"
   ]
  },
  {
   "cell_type": "code",
   "execution_count": 27,
   "metadata": {},
   "outputs": [
    {
     "data": {
      "text/plain": [
       "4"
      ]
     },
     "execution_count": 27,
     "metadata": {},
     "output_type": "execute_result"
    }
   ],
   "source": [
    "cursor.execute(\"DESCRIBE 社会;\")"
   ]
  },
  {
   "cell_type": "code",
   "execution_count": 28,
   "metadata": {},
   "outputs": [
    {
     "data": {
      "text/plain": [
       "(('runoob_id', 'int unsigned', 'NO', 'PRI', None, 'auto_increment'),\n",
       " ('runoob_title', 'varchar(100)', 'NO', '', None, ''),\n",
       " ('runoob_author', 'varchar(40)', 'NO', '', None, ''),\n",
       " ('submission_date', 'date', 'YES', '', None, ''))"
      ]
     },
     "execution_count": 28,
     "metadata": {},
     "output_type": "execute_result"
    }
   ],
   "source": [
    "cursor.fetchall()\n"
   ]
  },
  {
   "cell_type": "code",
   "execution_count": null,
   "metadata": {},
   "outputs": [],
   "source": [
    "cursor.execute(\"INSERT INTO  社会;\")"
   ]
  },
  {
   "cell_type": "markdown",
   "metadata": {},
   "source": [
    "### 数据库提交"
   ]
  },
  {
   "cell_type": "code",
   "execution_count": 205,
   "metadata": {},
   "outputs": [],
   "source": [
    "db = pymysql.connect(**db_config,)\n",
    "cursor = db.cursor()"
   ]
  },
  {
   "cell_type": "code",
   "execution_count": 83,
   "metadata": {},
   "outputs": [],
   "source": [
    "cursor = db.cursor()"
   ]
  },
  {
   "cell_type": "code",
   "execution_count": 220,
   "metadata": {},
   "outputs": [],
   "source": [
    "db.connect()"
   ]
  },
  {
   "cell_type": "code",
   "execution_count": 217,
   "metadata": {},
   "outputs": [
    {
     "ename": "ProgrammingError",
     "evalue": "(1064, \"You have an error in your SQL syntax; check the manual that corresponds to your MySQL server version for the right syntax to use near ''社会及ok' (\\n'secCode' VARCHAR(20) NOT NULL,\\n'secName' VARCHAR(30) NOT NULL,\\n' at line 1\")",
     "output_type": "error",
     "traceback": [
      "\u001b[0;31m---------------------------------------------------------------------------\u001b[0m",
      "\u001b[0;31mProgrammingError\u001b[0m                          Traceback (most recent call last)",
      "\u001b[1;32m/home/arcsinszy/project/parse_code/test_db.ipynb Cell 20\u001b[0m in \u001b[0;36m<module>\u001b[0;34m\u001b[0m\n\u001b[0;32m----> <a href='vscode-notebook-cell:/home/arcsinszy/project/parse_code/test_db.ipynb#Y130sZmlsZQ%3D%3D?line=0'>1</a>\u001b[0m cursor\u001b[39m.\u001b[39;49mexecute(\u001b[39m\"\"\"\u001b[39;49m\u001b[39mCREATE TABLE IF NOT EXISTS \u001b[39;49m\u001b[39m'\u001b[39;49m\u001b[39m社会及ok\u001b[39;49m\u001b[39m'\u001b[39;49m\u001b[39m (\u001b[39;49m\n\u001b[1;32m      <a href='vscode-notebook-cell:/home/arcsinszy/project/parse_code/test_db.ipynb#Y130sZmlsZQ%3D%3D?line=1'>2</a>\u001b[0m \u001b[39m'\u001b[39;49m\u001b[39msecCode\u001b[39;49m\u001b[39m'\u001b[39;49m\u001b[39m VARCHAR(20) NOT NULL,\u001b[39;49m\n\u001b[1;32m      <a href='vscode-notebook-cell:/home/arcsinszy/project/parse_code/test_db.ipynb#Y130sZmlsZQ%3D%3D?line=2'>3</a>\u001b[0m \u001b[39m'\u001b[39;49m\u001b[39msecName\u001b[39;49m\u001b[39m'\u001b[39;49m\u001b[39m VARCHAR(30) NOT NULL,\u001b[39;49m\n\u001b[1;32m      <a href='vscode-notebook-cell:/home/arcsinszy/project/parse_code/test_db.ipynb#Y130sZmlsZQ%3D%3D?line=3'>4</a>\u001b[0m \u001b[39m'\u001b[39;49m\u001b[39morgId\u001b[39;49m\u001b[39m'\u001b[39;49m\u001b[39m VARCHAR(50),\u001b[39;49m\n\u001b[1;32m      <a href='vscode-notebook-cell:/home/arcsinszy/project/parse_code/test_db.ipynb#Y130sZmlsZQ%3D%3D?line=4'>5</a>\u001b[0m \u001b[39m'\u001b[39;49m\u001b[39mannouncementId\u001b[39;49m\u001b[39m'\u001b[39;49m\u001b[39m VARCHAR(30) NOT NULL,\u001b[39;49m\n\u001b[1;32m      <a href='vscode-notebook-cell:/home/arcsinszy/project/parse_code/test_db.ipynb#Y130sZmlsZQ%3D%3D?line=5'>6</a>\u001b[0m \u001b[39m'\u001b[39;49m\u001b[39mannouncementTitle\u001b[39;49m\u001b[39m'\u001b[39;49m\u001b[39m VARCHAR(100) NOT NULL,\u001b[39;49m\n\u001b[1;32m      <a href='vscode-notebook-cell:/home/arcsinszy/project/parse_code/test_db.ipynb#Y130sZmlsZQ%3D%3D?line=6'>7</a>\u001b[0m \u001b[39m'\u001b[39;49m\u001b[39mannouncement_title\u001b[39;49m\u001b[39m'\u001b[39;49m\u001b[39m VARCHAR(100) NOT NULL,\u001b[39;49m\n\u001b[1;32m      <a href='vscode-notebook-cell:/home/arcsinszy/project/parse_code/test_db.ipynb#Y130sZmlsZQ%3D%3D?line=7'>8</a>\u001b[0m \u001b[39m'\u001b[39;49m\u001b[39mannouncementTime\u001b[39;49m\u001b[39m'\u001b[39;49m\u001b[39m BIGINT UNSIGNED,\u001b[39;49m\n\u001b[1;32m      <a href='vscode-notebook-cell:/home/arcsinszy/project/parse_code/test_db.ipynb#Y130sZmlsZQ%3D%3D?line=8'>9</a>\u001b[0m \u001b[39m'\u001b[39;49m\u001b[39mannouncement_year\u001b[39;49m\u001b[39m'\u001b[39;49m\u001b[39m YEAR,\u001b[39;49m\n\u001b[1;32m     <a href='vscode-notebook-cell:/home/arcsinszy/project/parse_code/test_db.ipynb#Y130sZmlsZQ%3D%3D?line=9'>10</a>\u001b[0m \u001b[39m'\u001b[39;49m\u001b[39madjunctUrl\u001b[39;49m\u001b[39m'\u001b[39;49m\u001b[39m VARCHAR(100) NOT NULL,\u001b[39;49m\n\u001b[1;32m     <a href='vscode-notebook-cell:/home/arcsinszy/project/parse_code/test_db.ipynb#Y130sZmlsZQ%3D%3D?line=10'>11</a>\u001b[0m \u001b[39m'\u001b[39;49m\u001b[39mrecord_time\u001b[39;49m\u001b[39m'\u001b[39;49m\u001b[39m DATE,\u001b[39;49m\n\u001b[1;32m     <a href='vscode-notebook-cell:/home/arcsinszy/project/parse_code/test_db.ipynb#Y130sZmlsZQ%3D%3D?line=11'>12</a>\u001b[0m \u001b[39m'\u001b[39;49m\u001b[39mpages_num\u001b[39;49m\u001b[39m'\u001b[39;49m\u001b[39m INT UNSIGNED,\u001b[39;49m\n\u001b[1;32m     <a href='vscode-notebook-cell:/home/arcsinszy/project/parse_code/test_db.ipynb#Y130sZmlsZQ%3D%3D?line=12'>13</a>\u001b[0m \u001b[39m'\u001b[39;49m\u001b[39mwords_num\u001b[39;49m\u001b[39m'\u001b[39;49m\u001b[39m BIGINT UNSIGNED,\u001b[39;49m\n\u001b[1;32m     <a href='vscode-notebook-cell:/home/arcsinszy/project/parse_code/test_db.ipynb#Y130sZmlsZQ%3D%3D?line=13'>14</a>\u001b[0m \u001b[39mPRIMARY KEY ( \u001b[39;49m\u001b[39m'\u001b[39;49m\u001b[39mannouncementId\u001b[39;49m\u001b[39m'\u001b[39;49m\u001b[39m )\u001b[39;49m\n\u001b[1;32m     <a href='vscode-notebook-cell:/home/arcsinszy/project/parse_code/test_db.ipynb#Y130sZmlsZQ%3D%3D?line=14'>15</a>\u001b[0m \u001b[39m)CHARSET=utf8;\u001b[39;49m\u001b[39m\"\"\"\u001b[39;49m)\n",
      "File \u001b[0;32m~/.local/lib/python3.8/site-packages/pymysql/cursors.py:148\u001b[0m, in \u001b[0;36mCursor.execute\u001b[0;34m(self, query, args)\u001b[0m\n\u001b[1;32m    144\u001b[0m     \u001b[39mpass\u001b[39;00m\n\u001b[1;32m    146\u001b[0m query \u001b[39m=\u001b[39m \u001b[39mself\u001b[39m\u001b[39m.\u001b[39mmogrify(query, args)\n\u001b[0;32m--> 148\u001b[0m result \u001b[39m=\u001b[39m \u001b[39mself\u001b[39;49m\u001b[39m.\u001b[39;49m_query(query)\n\u001b[1;32m    149\u001b[0m \u001b[39mself\u001b[39m\u001b[39m.\u001b[39m_executed \u001b[39m=\u001b[39m query\n\u001b[1;32m    150\u001b[0m \u001b[39mreturn\u001b[39;00m result\n",
      "File \u001b[0;32m~/.local/lib/python3.8/site-packages/pymysql/cursors.py:310\u001b[0m, in \u001b[0;36mCursor._query\u001b[0;34m(self, q)\u001b[0m\n\u001b[1;32m    308\u001b[0m \u001b[39mself\u001b[39m\u001b[39m.\u001b[39m_last_executed \u001b[39m=\u001b[39m q\n\u001b[1;32m    309\u001b[0m \u001b[39mself\u001b[39m\u001b[39m.\u001b[39m_clear_result()\n\u001b[0;32m--> 310\u001b[0m conn\u001b[39m.\u001b[39;49mquery(q)\n\u001b[1;32m    311\u001b[0m \u001b[39mself\u001b[39m\u001b[39m.\u001b[39m_do_get_result()\n\u001b[1;32m    312\u001b[0m \u001b[39mreturn\u001b[39;00m \u001b[39mself\u001b[39m\u001b[39m.\u001b[39mrowcount\n",
      "File \u001b[0;32m~/.local/lib/python3.8/site-packages/pymysql/connections.py:548\u001b[0m, in \u001b[0;36mConnection.query\u001b[0;34m(self, sql, unbuffered)\u001b[0m\n\u001b[1;32m    546\u001b[0m     sql \u001b[39m=\u001b[39m sql\u001b[39m.\u001b[39mencode(\u001b[39mself\u001b[39m\u001b[39m.\u001b[39mencoding, \u001b[39m\"\u001b[39m\u001b[39msurrogateescape\u001b[39m\u001b[39m\"\u001b[39m)\n\u001b[1;32m    547\u001b[0m \u001b[39mself\u001b[39m\u001b[39m.\u001b[39m_execute_command(COMMAND\u001b[39m.\u001b[39mCOM_QUERY, sql)\n\u001b[0;32m--> 548\u001b[0m \u001b[39mself\u001b[39m\u001b[39m.\u001b[39m_affected_rows \u001b[39m=\u001b[39m \u001b[39mself\u001b[39;49m\u001b[39m.\u001b[39;49m_read_query_result(unbuffered\u001b[39m=\u001b[39;49munbuffered)\n\u001b[1;32m    549\u001b[0m \u001b[39mreturn\u001b[39;00m \u001b[39mself\u001b[39m\u001b[39m.\u001b[39m_affected_rows\n",
      "File \u001b[0;32m~/.local/lib/python3.8/site-packages/pymysql/connections.py:775\u001b[0m, in \u001b[0;36mConnection._read_query_result\u001b[0;34m(self, unbuffered)\u001b[0m\n\u001b[1;32m    773\u001b[0m \u001b[39melse\u001b[39;00m:\n\u001b[1;32m    774\u001b[0m     result \u001b[39m=\u001b[39m MySQLResult(\u001b[39mself\u001b[39m)\n\u001b[0;32m--> 775\u001b[0m     result\u001b[39m.\u001b[39;49mread()\n\u001b[1;32m    776\u001b[0m \u001b[39mself\u001b[39m\u001b[39m.\u001b[39m_result \u001b[39m=\u001b[39m result\n\u001b[1;32m    777\u001b[0m \u001b[39mif\u001b[39;00m result\u001b[39m.\u001b[39mserver_status \u001b[39mis\u001b[39;00m \u001b[39mnot\u001b[39;00m \u001b[39mNone\u001b[39;00m:\n",
      "File \u001b[0;32m~/.local/lib/python3.8/site-packages/pymysql/connections.py:1156\u001b[0m, in \u001b[0;36mMySQLResult.read\u001b[0;34m(self)\u001b[0m\n\u001b[1;32m   1154\u001b[0m \u001b[39mdef\u001b[39;00m \u001b[39mread\u001b[39m(\u001b[39mself\u001b[39m):\n\u001b[1;32m   1155\u001b[0m     \u001b[39mtry\u001b[39;00m:\n\u001b[0;32m-> 1156\u001b[0m         first_packet \u001b[39m=\u001b[39m \u001b[39mself\u001b[39;49m\u001b[39m.\u001b[39;49mconnection\u001b[39m.\u001b[39;49m_read_packet()\n\u001b[1;32m   1158\u001b[0m         \u001b[39mif\u001b[39;00m first_packet\u001b[39m.\u001b[39mis_ok_packet():\n\u001b[1;32m   1159\u001b[0m             \u001b[39mself\u001b[39m\u001b[39m.\u001b[39m_read_ok_packet(first_packet)\n",
      "File \u001b[0;32m~/.local/lib/python3.8/site-packages/pymysql/connections.py:725\u001b[0m, in \u001b[0;36mConnection._read_packet\u001b[0;34m(self, packet_type)\u001b[0m\n\u001b[1;32m    723\u001b[0m     \u001b[39mif\u001b[39;00m \u001b[39mself\u001b[39m\u001b[39m.\u001b[39m_result \u001b[39mis\u001b[39;00m \u001b[39mnot\u001b[39;00m \u001b[39mNone\u001b[39;00m \u001b[39mand\u001b[39;00m \u001b[39mself\u001b[39m\u001b[39m.\u001b[39m_result\u001b[39m.\u001b[39munbuffered_active \u001b[39mis\u001b[39;00m \u001b[39mTrue\u001b[39;00m:\n\u001b[1;32m    724\u001b[0m         \u001b[39mself\u001b[39m\u001b[39m.\u001b[39m_result\u001b[39m.\u001b[39munbuffered_active \u001b[39m=\u001b[39m \u001b[39mFalse\u001b[39;00m\n\u001b[0;32m--> 725\u001b[0m     packet\u001b[39m.\u001b[39;49mraise_for_error()\n\u001b[1;32m    726\u001b[0m \u001b[39mreturn\u001b[39;00m packet\n",
      "File \u001b[0;32m~/.local/lib/python3.8/site-packages/pymysql/protocol.py:221\u001b[0m, in \u001b[0;36mMysqlPacket.raise_for_error\u001b[0;34m(self)\u001b[0m\n\u001b[1;32m    219\u001b[0m \u001b[39mif\u001b[39;00m DEBUG:\n\u001b[1;32m    220\u001b[0m     \u001b[39mprint\u001b[39m(\u001b[39m\"\u001b[39m\u001b[39merrno =\u001b[39m\u001b[39m\"\u001b[39m, errno)\n\u001b[0;32m--> 221\u001b[0m err\u001b[39m.\u001b[39;49mraise_mysql_exception(\u001b[39mself\u001b[39;49m\u001b[39m.\u001b[39;49m_data)\n",
      "File \u001b[0;32m~/.local/lib/python3.8/site-packages/pymysql/err.py:143\u001b[0m, in \u001b[0;36mraise_mysql_exception\u001b[0;34m(data)\u001b[0m\n\u001b[1;32m    141\u001b[0m \u001b[39mif\u001b[39;00m errorclass \u001b[39mis\u001b[39;00m \u001b[39mNone\u001b[39;00m:\n\u001b[1;32m    142\u001b[0m     errorclass \u001b[39m=\u001b[39m InternalError \u001b[39mif\u001b[39;00m errno \u001b[39m<\u001b[39m \u001b[39m1000\u001b[39m \u001b[39melse\u001b[39;00m OperationalError\n\u001b[0;32m--> 143\u001b[0m \u001b[39mraise\u001b[39;00m errorclass(errno, errval)\n",
      "\u001b[0;31mProgrammingError\u001b[0m: (1064, \"You have an error in your SQL syntax; check the manual that corresponds to your MySQL server version for the right syntax to use near ''社会及ok' (\\n'secCode' VARCHAR(20) NOT NULL,\\n'secName' VARCHAR(30) NOT NULL,\\n' at line 1\")"
     ]
    }
   ],
   "source": [
    "cursor.execute(\"\"\"CREATE TABLE IF NOT EXISTS '社会及ok` (\n",
    "`secCode` VARCHAR(20) NOT NULL,\n",
    "`secName` VARCHAR(30) NOT NULL,\n",
    "`orgId` VARCHAR(50),\n",
    "`announcementId' VARCHAR(30) NOT NULL,\n",
    "'announcementTitle' VARCHAR(100) NOT NULL,\n",
    "'announcement_title' VARCHAR(100) NOT NULL,\n",
    "'announcementTime' BIGINT UNSIGNED,\n",
    "'announcement_year' YEAR,\n",
    "'adjunctUrl' VARCHAR(100) NOT NULL,\n",
    "'record_time' DATE,\n",
    "'pages_num' INT UNSIGNED,\n",
    "'words_num' BIGINT UNSIGNED,\n",
    "PRIMARY KEY ( 'announcementId' )\n",
    ")CHARSET=utf8;\"\"\")"
   ]
  },
  {
   "cell_type": "code",
   "execution_count": 231,
   "metadata": {},
   "outputs": [
    {
     "data": {
      "text/plain": [
       "0"
      ]
     },
     "execution_count": 231,
     "metadata": {},
     "output_type": "execute_result"
    }
   ],
   "source": [
    "cursor.execute(\"use Juchao;\")\n"
   ]
  },
  {
   "cell_type": "code",
   "execution_count": 232,
   "metadata": {},
   "outputs": [
    {
     "data": {
      "text/plain": [
       "0"
      ]
     },
     "execution_count": 232,
     "metadata": {},
     "output_type": "execute_result"
    }
   ],
   "source": [
    "cursor.execute(generate_create_query('社会及ok',column_dict,'announcementId'))"
   ]
  },
  {
   "cell_type": "code",
   "execution_count": 233,
   "metadata": {},
   "outputs": [
    {
     "data": {
      "text/plain": [
       "(('社会',), ('社会及ok',))"
      ]
     },
     "execution_count": 233,
     "metadata": {},
     "output_type": "execute_result"
    }
   ],
   "source": [
    "cursor.execute(\"SHOW TABLES;\")\n",
    "cursor.fetchall()"
   ]
  },
  {
   "cell_type": "code",
   "execution_count": 234,
   "metadata": {},
   "outputs": [
    {
     "data": {
      "text/plain": [
       "(('secCode', 'varchar(20)', 'NO', '', None, ''),\n",
       " ('secName', 'varchar(30)', 'NO', '', None, ''),\n",
       " ('orgId', 'varchar(50)', 'YES', '', None, ''),\n",
       " ('announcementId', 'varchar(30)', 'NO', 'PRI', None, ''),\n",
       " ('announcementTitle', 'varchar(100)', 'NO', '', None, ''),\n",
       " ('announcement_title', 'varchar(100)', 'NO', '', None, ''),\n",
       " ('announcementTime', 'bigint unsigned', 'YES', '', None, ''),\n",
       " ('announcement_year', 'year', 'YES', '', None, ''),\n",
       " ('adjunctUrl', 'varchar(100)', 'NO', '', None, ''),\n",
       " ('record_time', 'date', 'YES', '', None, ''),\n",
       " ('pages_num', 'int unsigned', 'YES', '', None, ''),\n",
       " ('words_num', 'bigint unsigned', 'YES', '', None, ''))"
      ]
     },
     "execution_count": 234,
     "metadata": {},
     "output_type": "execute_result"
    }
   ],
   "source": [
    "cursor.execute(\"DESCRIBE 社会及ok;\")\n",
    "cursor.fetchall()"
   ]
  },
  {
   "cell_type": "code",
   "execution_count": 236,
   "metadata": {},
   "outputs": [
    {
     "ename": "KeyboardInterrupt",
     "evalue": "",
     "output_type": "error",
     "traceback": [
      "\u001b[0;31m---------------------------------------------------------------------------\u001b[0m",
      "\u001b[0;31mKeyboardInterrupt\u001b[0m                         Traceback (most recent call last)",
      "\u001b[1;32m/home/arcsinszy/project/parse_code/test_db.ipynb Cell 25\u001b[0m in \u001b[0;36m<module>\u001b[0;34m\u001b[0m\n\u001b[1;32m      <a href='vscode-notebook-cell:/home/arcsinszy/project/parse_code/test_db.ipynb#Y134sZmlsZQ%3D%3D?line=0'>1</a>\u001b[0m \u001b[39mwhile\u001b[39;00m \u001b[39mTrue\u001b[39;00m:\n\u001b[0;32m----> <a href='vscode-notebook-cell:/home/arcsinszy/project/parse_code/test_db.ipynb#Y134sZmlsZQ%3D%3D?line=1'>2</a>\u001b[0m     db\u001b[39m.\u001b[39;49mping(\u001b[39mTrue\u001b[39;49;00m)\n",
      "File \u001b[0;32m~/.local/lib/python3.8/site-packages/pymysql/connections.py:578\u001b[0m, in \u001b[0;36mConnection.ping\u001b[0;34m(self, reconnect)\u001b[0m\n\u001b[1;32m    576\u001b[0m \u001b[39mtry\u001b[39;00m:\n\u001b[1;32m    577\u001b[0m     \u001b[39mself\u001b[39m\u001b[39m.\u001b[39m_execute_command(COMMAND\u001b[39m.\u001b[39mCOM_PING, \u001b[39m\"\u001b[39m\u001b[39m\"\u001b[39m)\n\u001b[0;32m--> 578\u001b[0m     \u001b[39mself\u001b[39;49m\u001b[39m.\u001b[39;49m_read_ok_packet()\n\u001b[1;32m    579\u001b[0m \u001b[39mexcept\u001b[39;00m \u001b[39mException\u001b[39;00m:\n\u001b[1;32m    580\u001b[0m     \u001b[39mif\u001b[39;00m reconnect:\n",
      "File \u001b[0;32m~/.local/lib/python3.8/site-packages/pymysql/connections.py:443\u001b[0m, in \u001b[0;36mConnection._read_ok_packet\u001b[0;34m(self)\u001b[0m\n\u001b[1;32m    442\u001b[0m \u001b[39mdef\u001b[39;00m \u001b[39m_read_ok_packet\u001b[39m(\u001b[39mself\u001b[39m):\n\u001b[0;32m--> 443\u001b[0m     pkt \u001b[39m=\u001b[39m \u001b[39mself\u001b[39;49m\u001b[39m.\u001b[39;49m_read_packet()\n\u001b[1;32m    444\u001b[0m     \u001b[39mif\u001b[39;00m \u001b[39mnot\u001b[39;00m pkt\u001b[39m.\u001b[39mis_ok_packet():\n\u001b[1;32m    445\u001b[0m         \u001b[39mraise\u001b[39;00m err\u001b[39m.\u001b[39mOperationalError(\u001b[39m2014\u001b[39m, \u001b[39m\"\u001b[39m\u001b[39mCommand Out of Sync\u001b[39m\u001b[39m\"\u001b[39m)\n",
      "File \u001b[0;32m~/.local/lib/python3.8/site-packages/pymysql/connections.py:692\u001b[0m, in \u001b[0;36mConnection._read_packet\u001b[0;34m(self, packet_type)\u001b[0m\n\u001b[1;32m    690\u001b[0m buff \u001b[39m=\u001b[39m \u001b[39mbytearray\u001b[39m()\n\u001b[1;32m    691\u001b[0m \u001b[39mwhile\u001b[39;00m \u001b[39mTrue\u001b[39;00m:\n\u001b[0;32m--> 692\u001b[0m     packet_header \u001b[39m=\u001b[39m \u001b[39mself\u001b[39;49m\u001b[39m.\u001b[39;49m_read_bytes(\u001b[39m4\u001b[39;49m)\n\u001b[1;32m    693\u001b[0m     \u001b[39m# if DEBUG: dump_packet(packet_header)\u001b[39;00m\n\u001b[1;32m    695\u001b[0m     btrl, btrh, packet_number \u001b[39m=\u001b[39m struct\u001b[39m.\u001b[39munpack(\u001b[39m\"\u001b[39m\u001b[39m<HBB\u001b[39m\u001b[39m\"\u001b[39m, packet_header)\n",
      "File \u001b[0;32m~/.local/lib/python3.8/site-packages/pymysql/connections.py:732\u001b[0m, in \u001b[0;36mConnection._read_bytes\u001b[0;34m(self, num_bytes)\u001b[0m\n\u001b[1;32m    730\u001b[0m \u001b[39mwhile\u001b[39;00m \u001b[39mTrue\u001b[39;00m:\n\u001b[1;32m    731\u001b[0m     \u001b[39mtry\u001b[39;00m:\n\u001b[0;32m--> 732\u001b[0m         data \u001b[39m=\u001b[39m \u001b[39mself\u001b[39;49m\u001b[39m.\u001b[39;49m_rfile\u001b[39m.\u001b[39;49mread(num_bytes)\n\u001b[1;32m    733\u001b[0m         \u001b[39mbreak\u001b[39;00m\n\u001b[1;32m    734\u001b[0m     \u001b[39mexcept\u001b[39;00m (\u001b[39mIOError\u001b[39;00m, \u001b[39mOSError\u001b[39;00m) \u001b[39mas\u001b[39;00m e:\n",
      "File \u001b[0;32m/usr/lib/python3.8/socket.py:669\u001b[0m, in \u001b[0;36mSocketIO.readinto\u001b[0;34m(self, b)\u001b[0m\n\u001b[1;32m    667\u001b[0m \u001b[39mwhile\u001b[39;00m \u001b[39mTrue\u001b[39;00m:\n\u001b[1;32m    668\u001b[0m     \u001b[39mtry\u001b[39;00m:\n\u001b[0;32m--> 669\u001b[0m         \u001b[39mreturn\u001b[39;00m \u001b[39mself\u001b[39;49m\u001b[39m.\u001b[39;49m_sock\u001b[39m.\u001b[39;49mrecv_into(b)\n\u001b[1;32m    670\u001b[0m     \u001b[39mexcept\u001b[39;00m timeout:\n\u001b[1;32m    671\u001b[0m         \u001b[39mself\u001b[39m\u001b[39m.\u001b[39m_timeout_occurred \u001b[39m=\u001b[39m \u001b[39mTrue\u001b[39;00m\n",
      "\u001b[0;31mKeyboardInterrupt\u001b[0m: "
     ]
    }
   ],
   "source": [
    "while True:\n",
    "    db.ping(True)"
   ]
  },
  {
   "cell_type": "code",
   "execution_count": 106,
   "metadata": {},
   "outputs": [],
   "source": []
  },
  {
   "cell_type": "code",
   "execution_count": 100,
   "metadata": {},
   "outputs": [
    {
     "data": {
      "text/plain": [
       "'socket 148.100.76.200:3306'"
      ]
     },
     "execution_count": 100,
     "metadata": {},
     "output_type": "execute_result"
    }
   ],
   "source": [
    "db.get_host_info()"
   ]
  },
  {
   "cell_type": "code",
   "execution_count": 101,
   "metadata": {},
   "outputs": [
    {
     "data": {
      "text/plain": [
       "'8.0.31-0ubuntu0.22.04.1'"
      ]
     },
     "execution_count": 101,
     "metadata": {},
     "output_type": "execute_result"
    }
   ],
   "source": [
    "db.get_server_info()"
   ]
  },
  {
   "cell_type": "code",
   "execution_count": 102,
   "metadata": {},
   "outputs": [
    {
     "data": {
      "text/plain": [
       "1"
      ]
     },
     "execution_count": 102,
     "metadata": {},
     "output_type": "execute_result"
    }
   ],
   "source": [
    "db.server_status"
   ]
  },
  {
   "cell_type": "code",
   "execution_count": 103,
   "metadata": {},
   "outputs": [
    {
     "data": {
      "text/plain": [
       "1"
      ]
     },
     "execution_count": 103,
     "metadata": {},
     "output_type": "execute_result"
    }
   ],
   "source": [
    "db.server_status"
   ]
  },
  {
   "cell_type": "code",
   "execution_count": 120,
   "metadata": {},
   "outputs": [
    {
     "data": {
      "text/plain": [
       "(('Juchao',),\n",
       " ('information_schema',),\n",
       " ('mysql',),\n",
       " ('performance_schema',),\n",
       " ('sys',))"
      ]
     },
     "execution_count": 120,
     "metadata": {},
     "output_type": "execute_result"
    }
   ],
   "source": [
    "db.ping(reconnect=True)\n",
    "cursor.execute(\"SHOW DATABASES;\")\n",
    "cursor.fetchall()"
   ]
  },
  {
   "cell_type": "code",
   "execution_count": 111,
   "metadata": {},
   "outputs": [
    {
     "data": {
      "text/plain": [
       "0"
      ]
     },
     "execution_count": 111,
     "metadata": {},
     "output_type": "execute_result"
    }
   ],
   "source": [
    "db.ping(reconnect=True)\n",
    "cursor.execute(\"use Juchao\")\n",
    "# cursor."
   ]
  },
  {
   "cell_type": "code",
   "execution_count": null,
   "metadata": {},
   "outputs": [],
   "source": [
    "db.connect_timeout = 10"
   ]
  },
  {
   "cell_type": "code",
   "execution_count": 126,
   "metadata": {},
   "outputs": [
    {
     "data": {
      "text/plain": [
       "1"
      ]
     },
     "execution_count": 126,
     "metadata": {},
     "output_type": "execute_result"
    }
   ],
   "source": [
    "db.connect_timeout"
   ]
  },
  {
   "cell_type": "code",
   "execution_count": 127,
   "metadata": {},
   "outputs": [
    {
     "name": "stdout",
     "output_type": "stream",
     "text": [
      "0 1\n",
      "0 2\n",
      "0 3\n",
      "0 4\n",
      "0 5\n",
      "0 6\n",
      "0 7\n",
      "0 8\n",
      "0 9\n",
      "0 10\n",
      "0 11\n",
      "0 12\n",
      "0 13\n",
      "0 14\n",
      "0 15\n",
      "0 16\n",
      "0 17\n",
      "0 18\n",
      "0 19\n",
      "0 20\n",
      "0 21\n",
      "0 22\n",
      "0 23\n",
      "0 24\n",
      "0 25\n",
      "0 26\n",
      "0 27\n",
      "0 28\n"
     ]
    },
    {
     "ename": "KeyboardInterrupt",
     "evalue": "",
     "output_type": "error",
     "traceback": [
      "\u001b[0;31m---------------------------------------------------------------------------\u001b[0m",
      "\u001b[0;31mKeyboardInterrupt\u001b[0m                         Traceback (most recent call last)",
      "\u001b[1;32m/home/arcsinszy/project/parse_code/test_db.ipynb Cell 30\u001b[0m in \u001b[0;36m<module>\u001b[0;34m\u001b[0m\n\u001b[1;32m      <a href='vscode-notebook-cell:/home/arcsinszy/project/parse_code/test_db.ipynb#X55sZmlsZQ%3D%3D?line=2'>3</a>\u001b[0m \u001b[39mwhile\u001b[39;00m \u001b[39mTrue\u001b[39;00m:\n\u001b[1;32m      <a href='vscode-notebook-cell:/home/arcsinszy/project/parse_code/test_db.ipynb#X55sZmlsZQ%3D%3D?line=3'>4</a>\u001b[0m     i \u001b[39m+\u001b[39m\u001b[39m=\u001b[39m \u001b[39m1\u001b[39m\n\u001b[0;32m----> <a href='vscode-notebook-cell:/home/arcsinszy/project/parse_code/test_db.ipynb#X55sZmlsZQ%3D%3D?line=4'>5</a>\u001b[0m     time\u001b[39m.\u001b[39;49msleep(\u001b[39m5\u001b[39;49m)\n\u001b[1;32m      <a href='vscode-notebook-cell:/home/arcsinszy/project/parse_code/test_db.ipynb#X55sZmlsZQ%3D%3D?line=5'>6</a>\u001b[0m     \u001b[39mprint\u001b[39m(db\u001b[39m.\u001b[39mserver_status,i)\n\u001b[1;32m      <a href='vscode-notebook-cell:/home/arcsinszy/project/parse_code/test_db.ipynb#X55sZmlsZQ%3D%3D?line=6'>7</a>\u001b[0m     \u001b[39m# db.ping(reconnect=True)\u001b[39;00m\n",
      "\u001b[0;31mKeyboardInterrupt\u001b[0m: "
     ]
    }
   ],
   "source": [
    "import time\n",
    "i = 0\n",
    "while True:\n",
    "    i += 1\n",
    "    time.sleep(5)\n",
    "    print(db.server_status,i)\n",
    "    # db.ping(reconnect=True)\n",
    "    cursor.execute(\"SHOW DATABASES;\")\n",
    "    cursor.fetchall()\n"
   ]
  },
  {
   "cell_type": "code",
   "execution_count": 113,
   "metadata": {},
   "outputs": [
    {
     "ename": "OperationalError",
     "evalue": "(1065, 'Query was empty')",
     "output_type": "error",
     "traceback": [
      "\u001b[0;31m---------------------------------------------------------------------------\u001b[0m",
      "\u001b[0;31mOperationalError\u001b[0m                          Traceback (most recent call last)",
      "\u001b[1;32m/home/arcsinszy/project/parse_code/test_db.ipynb Cell 28\u001b[0m in \u001b[0;36m<module>\u001b[0;34m\u001b[0m\n\u001b[1;32m      <a href='vscode-notebook-cell:/home/arcsinszy/project/parse_code/test_db.ipynb#X54sZmlsZQ%3D%3D?line=0'>1</a>\u001b[0m db\u001b[39m.\u001b[39mping(reconnect\u001b[39m=\u001b[39m\u001b[39mTrue\u001b[39;00m)\n\u001b[0;32m----> <a href='vscode-notebook-cell:/home/arcsinszy/project/parse_code/test_db.ipynb#X54sZmlsZQ%3D%3D?line=1'>2</a>\u001b[0m cursor\u001b[39m.\u001b[39;49mexecute(\u001b[39m\"\u001b[39;49m\u001b[39m;\u001b[39;49m\u001b[39m\"\u001b[39;49m)\n",
      "File \u001b[0;32m~/.local/lib/python3.8/site-packages/pymysql/cursors.py:148\u001b[0m, in \u001b[0;36mCursor.execute\u001b[0;34m(self, query, args)\u001b[0m\n\u001b[1;32m    144\u001b[0m     \u001b[39mpass\u001b[39;00m\n\u001b[1;32m    146\u001b[0m query \u001b[39m=\u001b[39m \u001b[39mself\u001b[39m\u001b[39m.\u001b[39mmogrify(query, args)\n\u001b[0;32m--> 148\u001b[0m result \u001b[39m=\u001b[39m \u001b[39mself\u001b[39;49m\u001b[39m.\u001b[39;49m_query(query)\n\u001b[1;32m    149\u001b[0m \u001b[39mself\u001b[39m\u001b[39m.\u001b[39m_executed \u001b[39m=\u001b[39m query\n\u001b[1;32m    150\u001b[0m \u001b[39mreturn\u001b[39;00m result\n",
      "File \u001b[0;32m~/.local/lib/python3.8/site-packages/pymysql/cursors.py:310\u001b[0m, in \u001b[0;36mCursor._query\u001b[0;34m(self, q)\u001b[0m\n\u001b[1;32m    308\u001b[0m \u001b[39mself\u001b[39m\u001b[39m.\u001b[39m_last_executed \u001b[39m=\u001b[39m q\n\u001b[1;32m    309\u001b[0m \u001b[39mself\u001b[39m\u001b[39m.\u001b[39m_clear_result()\n\u001b[0;32m--> 310\u001b[0m conn\u001b[39m.\u001b[39;49mquery(q)\n\u001b[1;32m    311\u001b[0m \u001b[39mself\u001b[39m\u001b[39m.\u001b[39m_do_get_result()\n\u001b[1;32m    312\u001b[0m \u001b[39mreturn\u001b[39;00m \u001b[39mself\u001b[39m\u001b[39m.\u001b[39mrowcount\n",
      "File \u001b[0;32m~/.local/lib/python3.8/site-packages/pymysql/connections.py:548\u001b[0m, in \u001b[0;36mConnection.query\u001b[0;34m(self, sql, unbuffered)\u001b[0m\n\u001b[1;32m    546\u001b[0m     sql \u001b[39m=\u001b[39m sql\u001b[39m.\u001b[39mencode(\u001b[39mself\u001b[39m\u001b[39m.\u001b[39mencoding, \u001b[39m\"\u001b[39m\u001b[39msurrogateescape\u001b[39m\u001b[39m\"\u001b[39m)\n\u001b[1;32m    547\u001b[0m \u001b[39mself\u001b[39m\u001b[39m.\u001b[39m_execute_command(COMMAND\u001b[39m.\u001b[39mCOM_QUERY, sql)\n\u001b[0;32m--> 548\u001b[0m \u001b[39mself\u001b[39m\u001b[39m.\u001b[39m_affected_rows \u001b[39m=\u001b[39m \u001b[39mself\u001b[39;49m\u001b[39m.\u001b[39;49m_read_query_result(unbuffered\u001b[39m=\u001b[39;49munbuffered)\n\u001b[1;32m    549\u001b[0m \u001b[39mreturn\u001b[39;00m \u001b[39mself\u001b[39m\u001b[39m.\u001b[39m_affected_rows\n",
      "File \u001b[0;32m~/.local/lib/python3.8/site-packages/pymysql/connections.py:775\u001b[0m, in \u001b[0;36mConnection._read_query_result\u001b[0;34m(self, unbuffered)\u001b[0m\n\u001b[1;32m    773\u001b[0m \u001b[39melse\u001b[39;00m:\n\u001b[1;32m    774\u001b[0m     result \u001b[39m=\u001b[39m MySQLResult(\u001b[39mself\u001b[39m)\n\u001b[0;32m--> 775\u001b[0m     result\u001b[39m.\u001b[39;49mread()\n\u001b[1;32m    776\u001b[0m \u001b[39mself\u001b[39m\u001b[39m.\u001b[39m_result \u001b[39m=\u001b[39m result\n\u001b[1;32m    777\u001b[0m \u001b[39mif\u001b[39;00m result\u001b[39m.\u001b[39mserver_status \u001b[39mis\u001b[39;00m \u001b[39mnot\u001b[39;00m \u001b[39mNone\u001b[39;00m:\n",
      "File \u001b[0;32m~/.local/lib/python3.8/site-packages/pymysql/connections.py:1156\u001b[0m, in \u001b[0;36mMySQLResult.read\u001b[0;34m(self)\u001b[0m\n\u001b[1;32m   1154\u001b[0m \u001b[39mdef\u001b[39;00m \u001b[39mread\u001b[39m(\u001b[39mself\u001b[39m):\n\u001b[1;32m   1155\u001b[0m     \u001b[39mtry\u001b[39;00m:\n\u001b[0;32m-> 1156\u001b[0m         first_packet \u001b[39m=\u001b[39m \u001b[39mself\u001b[39;49m\u001b[39m.\u001b[39;49mconnection\u001b[39m.\u001b[39;49m_read_packet()\n\u001b[1;32m   1158\u001b[0m         \u001b[39mif\u001b[39;00m first_packet\u001b[39m.\u001b[39mis_ok_packet():\n\u001b[1;32m   1159\u001b[0m             \u001b[39mself\u001b[39m\u001b[39m.\u001b[39m_read_ok_packet(first_packet)\n",
      "File \u001b[0;32m~/.local/lib/python3.8/site-packages/pymysql/connections.py:725\u001b[0m, in \u001b[0;36mConnection._read_packet\u001b[0;34m(self, packet_type)\u001b[0m\n\u001b[1;32m    723\u001b[0m     \u001b[39mif\u001b[39;00m \u001b[39mself\u001b[39m\u001b[39m.\u001b[39m_result \u001b[39mis\u001b[39;00m \u001b[39mnot\u001b[39;00m \u001b[39mNone\u001b[39;00m \u001b[39mand\u001b[39;00m \u001b[39mself\u001b[39m\u001b[39m.\u001b[39m_result\u001b[39m.\u001b[39munbuffered_active \u001b[39mis\u001b[39;00m \u001b[39mTrue\u001b[39;00m:\n\u001b[1;32m    724\u001b[0m         \u001b[39mself\u001b[39m\u001b[39m.\u001b[39m_result\u001b[39m.\u001b[39munbuffered_active \u001b[39m=\u001b[39m \u001b[39mFalse\u001b[39;00m\n\u001b[0;32m--> 725\u001b[0m     packet\u001b[39m.\u001b[39;49mraise_for_error()\n\u001b[1;32m    726\u001b[0m \u001b[39mreturn\u001b[39;00m packet\n",
      "File \u001b[0;32m~/.local/lib/python3.8/site-packages/pymysql/protocol.py:221\u001b[0m, in \u001b[0;36mMysqlPacket.raise_for_error\u001b[0;34m(self)\u001b[0m\n\u001b[1;32m    219\u001b[0m \u001b[39mif\u001b[39;00m DEBUG:\n\u001b[1;32m    220\u001b[0m     \u001b[39mprint\u001b[39m(\u001b[39m\"\u001b[39m\u001b[39merrno =\u001b[39m\u001b[39m\"\u001b[39m, errno)\n\u001b[0;32m--> 221\u001b[0m err\u001b[39m.\u001b[39;49mraise_mysql_exception(\u001b[39mself\u001b[39;49m\u001b[39m.\u001b[39;49m_data)\n",
      "File \u001b[0;32m~/.local/lib/python3.8/site-packages/pymysql/err.py:143\u001b[0m, in \u001b[0;36mraise_mysql_exception\u001b[0;34m(data)\u001b[0m\n\u001b[1;32m    141\u001b[0m \u001b[39mif\u001b[39;00m errorclass \u001b[39mis\u001b[39;00m \u001b[39mNone\u001b[39;00m:\n\u001b[1;32m    142\u001b[0m     errorclass \u001b[39m=\u001b[39m InternalError \u001b[39mif\u001b[39;00m errno \u001b[39m<\u001b[39m \u001b[39m1000\u001b[39m \u001b[39melse\u001b[39;00m OperationalError\n\u001b[0;32m--> 143\u001b[0m \u001b[39mraise\u001b[39;00m errorclass(errno, errval)\n",
      "\u001b[0;31mOperationalError\u001b[0m: (1065, 'Query was empty')"
     ]
    }
   ],
   "source": [
    "db.ping(reconnect=True)\n",
    "cursor.execute(\";\")"
   ]
  },
  {
   "cell_type": "code",
   "execution_count": 118,
   "metadata": {},
   "outputs": [
    {
     "ename": "OperationalError",
     "evalue": "(1046, 'No database selected')",
     "output_type": "error",
     "traceback": [
      "\u001b[0;31m---------------------------------------------------------------------------\u001b[0m",
      "\u001b[0;31mOperationalError\u001b[0m                          Traceback (most recent call last)",
      "\u001b[1;32m/home/arcsinszy/project/parse_code/test_db.ipynb Cell 31\u001b[0m in \u001b[0;36m<module>\u001b[0;34m\u001b[0m\n\u001b[0;32m----> <a href='vscode-notebook-cell:/home/arcsinszy/project/parse_code/test_db.ipynb#X24sZmlsZQ%3D%3D?line=0'>1</a>\u001b[0m cursor\u001b[39m.\u001b[39;49mexecute(\u001b[39m\"\u001b[39;49m\u001b[39mSHOW TABLES;\u001b[39;49m\u001b[39m\"\u001b[39;49m)\n\u001b[1;32m      <a href='vscode-notebook-cell:/home/arcsinszy/project/parse_code/test_db.ipynb#X24sZmlsZQ%3D%3D?line=1'>2</a>\u001b[0m cursor\u001b[39m.\u001b[39mfetchall()\n",
      "File \u001b[0;32m~/.local/lib/python3.8/site-packages/pymysql/cursors.py:148\u001b[0m, in \u001b[0;36mCursor.execute\u001b[0;34m(self, query, args)\u001b[0m\n\u001b[1;32m    144\u001b[0m     \u001b[39mpass\u001b[39;00m\n\u001b[1;32m    146\u001b[0m query \u001b[39m=\u001b[39m \u001b[39mself\u001b[39m\u001b[39m.\u001b[39mmogrify(query, args)\n\u001b[0;32m--> 148\u001b[0m result \u001b[39m=\u001b[39m \u001b[39mself\u001b[39;49m\u001b[39m.\u001b[39;49m_query(query)\n\u001b[1;32m    149\u001b[0m \u001b[39mself\u001b[39m\u001b[39m.\u001b[39m_executed \u001b[39m=\u001b[39m query\n\u001b[1;32m    150\u001b[0m \u001b[39mreturn\u001b[39;00m result\n",
      "File \u001b[0;32m~/.local/lib/python3.8/site-packages/pymysql/cursors.py:310\u001b[0m, in \u001b[0;36mCursor._query\u001b[0;34m(self, q)\u001b[0m\n\u001b[1;32m    308\u001b[0m \u001b[39mself\u001b[39m\u001b[39m.\u001b[39m_last_executed \u001b[39m=\u001b[39m q\n\u001b[1;32m    309\u001b[0m \u001b[39mself\u001b[39m\u001b[39m.\u001b[39m_clear_result()\n\u001b[0;32m--> 310\u001b[0m conn\u001b[39m.\u001b[39;49mquery(q)\n\u001b[1;32m    311\u001b[0m \u001b[39mself\u001b[39m\u001b[39m.\u001b[39m_do_get_result()\n\u001b[1;32m    312\u001b[0m \u001b[39mreturn\u001b[39;00m \u001b[39mself\u001b[39m\u001b[39m.\u001b[39mrowcount\n",
      "File \u001b[0;32m~/.local/lib/python3.8/site-packages/pymysql/connections.py:548\u001b[0m, in \u001b[0;36mConnection.query\u001b[0;34m(self, sql, unbuffered)\u001b[0m\n\u001b[1;32m    546\u001b[0m     sql \u001b[39m=\u001b[39m sql\u001b[39m.\u001b[39mencode(\u001b[39mself\u001b[39m\u001b[39m.\u001b[39mencoding, \u001b[39m\"\u001b[39m\u001b[39msurrogateescape\u001b[39m\u001b[39m\"\u001b[39m)\n\u001b[1;32m    547\u001b[0m \u001b[39mself\u001b[39m\u001b[39m.\u001b[39m_execute_command(COMMAND\u001b[39m.\u001b[39mCOM_QUERY, sql)\n\u001b[0;32m--> 548\u001b[0m \u001b[39mself\u001b[39m\u001b[39m.\u001b[39m_affected_rows \u001b[39m=\u001b[39m \u001b[39mself\u001b[39;49m\u001b[39m.\u001b[39;49m_read_query_result(unbuffered\u001b[39m=\u001b[39;49munbuffered)\n\u001b[1;32m    549\u001b[0m \u001b[39mreturn\u001b[39;00m \u001b[39mself\u001b[39m\u001b[39m.\u001b[39m_affected_rows\n",
      "File \u001b[0;32m~/.local/lib/python3.8/site-packages/pymysql/connections.py:775\u001b[0m, in \u001b[0;36mConnection._read_query_result\u001b[0;34m(self, unbuffered)\u001b[0m\n\u001b[1;32m    773\u001b[0m \u001b[39melse\u001b[39;00m:\n\u001b[1;32m    774\u001b[0m     result \u001b[39m=\u001b[39m MySQLResult(\u001b[39mself\u001b[39m)\n\u001b[0;32m--> 775\u001b[0m     result\u001b[39m.\u001b[39;49mread()\n\u001b[1;32m    776\u001b[0m \u001b[39mself\u001b[39m\u001b[39m.\u001b[39m_result \u001b[39m=\u001b[39m result\n\u001b[1;32m    777\u001b[0m \u001b[39mif\u001b[39;00m result\u001b[39m.\u001b[39mserver_status \u001b[39mis\u001b[39;00m \u001b[39mnot\u001b[39;00m \u001b[39mNone\u001b[39;00m:\n",
      "File \u001b[0;32m~/.local/lib/python3.8/site-packages/pymysql/connections.py:1156\u001b[0m, in \u001b[0;36mMySQLResult.read\u001b[0;34m(self)\u001b[0m\n\u001b[1;32m   1154\u001b[0m \u001b[39mdef\u001b[39;00m \u001b[39mread\u001b[39m(\u001b[39mself\u001b[39m):\n\u001b[1;32m   1155\u001b[0m     \u001b[39mtry\u001b[39;00m:\n\u001b[0;32m-> 1156\u001b[0m         first_packet \u001b[39m=\u001b[39m \u001b[39mself\u001b[39;49m\u001b[39m.\u001b[39;49mconnection\u001b[39m.\u001b[39;49m_read_packet()\n\u001b[1;32m   1158\u001b[0m         \u001b[39mif\u001b[39;00m first_packet\u001b[39m.\u001b[39mis_ok_packet():\n\u001b[1;32m   1159\u001b[0m             \u001b[39mself\u001b[39m\u001b[39m.\u001b[39m_read_ok_packet(first_packet)\n",
      "File \u001b[0;32m~/.local/lib/python3.8/site-packages/pymysql/connections.py:725\u001b[0m, in \u001b[0;36mConnection._read_packet\u001b[0;34m(self, packet_type)\u001b[0m\n\u001b[1;32m    723\u001b[0m     \u001b[39mif\u001b[39;00m \u001b[39mself\u001b[39m\u001b[39m.\u001b[39m_result \u001b[39mis\u001b[39;00m \u001b[39mnot\u001b[39;00m \u001b[39mNone\u001b[39;00m \u001b[39mand\u001b[39;00m \u001b[39mself\u001b[39m\u001b[39m.\u001b[39m_result\u001b[39m.\u001b[39munbuffered_active \u001b[39mis\u001b[39;00m \u001b[39mTrue\u001b[39;00m:\n\u001b[1;32m    724\u001b[0m         \u001b[39mself\u001b[39m\u001b[39m.\u001b[39m_result\u001b[39m.\u001b[39munbuffered_active \u001b[39m=\u001b[39m \u001b[39mFalse\u001b[39;00m\n\u001b[0;32m--> 725\u001b[0m     packet\u001b[39m.\u001b[39;49mraise_for_error()\n\u001b[1;32m    726\u001b[0m \u001b[39mreturn\u001b[39;00m packet\n",
      "File \u001b[0;32m~/.local/lib/python3.8/site-packages/pymysql/protocol.py:221\u001b[0m, in \u001b[0;36mMysqlPacket.raise_for_error\u001b[0;34m(self)\u001b[0m\n\u001b[1;32m    219\u001b[0m \u001b[39mif\u001b[39;00m DEBUG:\n\u001b[1;32m    220\u001b[0m     \u001b[39mprint\u001b[39m(\u001b[39m\"\u001b[39m\u001b[39merrno =\u001b[39m\u001b[39m\"\u001b[39m, errno)\n\u001b[0;32m--> 221\u001b[0m err\u001b[39m.\u001b[39;49mraise_mysql_exception(\u001b[39mself\u001b[39;49m\u001b[39m.\u001b[39;49m_data)\n",
      "File \u001b[0;32m~/.local/lib/python3.8/site-packages/pymysql/err.py:143\u001b[0m, in \u001b[0;36mraise_mysql_exception\u001b[0;34m(data)\u001b[0m\n\u001b[1;32m    141\u001b[0m \u001b[39mif\u001b[39;00m errorclass \u001b[39mis\u001b[39;00m \u001b[39mNone\u001b[39;00m:\n\u001b[1;32m    142\u001b[0m     errorclass \u001b[39m=\u001b[39m InternalError \u001b[39mif\u001b[39;00m errno \u001b[39m<\u001b[39m \u001b[39m1000\u001b[39m \u001b[39melse\u001b[39;00m OperationalError\n\u001b[0;32m--> 143\u001b[0m \u001b[39mraise\u001b[39;00m errorclass(errno, errval)\n",
      "\u001b[0;31mOperationalError\u001b[0m: (1046, 'No database selected')"
     ]
    }
   ],
   "source": [
    "cursor.execute(\"SHOW TABLES;\")\n",
    "cursor.fetchall()"
   ]
  },
  {
   "cell_type": "markdown",
   "metadata": {},
   "source": [
    "#### 选中"
   ]
  },
  {
   "cell_type": "code",
   "execution_count": 95,
   "metadata": {},
   "outputs": [
    {
     "data": {
      "text/plain": [
       "()"
      ]
     },
     "execution_count": 95,
     "metadata": {},
     "output_type": "execute_result"
    }
   ],
   "source": [
    "cursor.execute(\"use Juchao;\")\n",
    "cursor.fetchall()"
   ]
  },
  {
   "cell_type": "markdown",
   "metadata": {},
   "source": [
    "#### 插入字典"
   ]
  },
  {
   "cell_type": "code",
   "execution_count": null,
   "metadata": {},
   "outputs": [],
   "source": []
  },
  {
   "cell_type": "code",
   "execution_count": null,
   "metadata": {},
   "outputs": [],
   "source": [
    "cursor.execute()\n",
    "cursor.fetchall()"
   ]
  },
  {
   "cell_type": "code",
   "execution_count": null,
   "metadata": {},
   "outputs": [],
   "source": [
    "cursor.execute()\n",
    "cursor.fetchall()"
   ]
  },
  {
   "cell_type": "code",
   "execution_count": null,
   "metadata": {},
   "outputs": [],
   "source": [
    "cursor.execute()\n",
    "cursor.fetchall()"
   ]
  },
  {
   "cell_type": "code",
   "execution_count": null,
   "metadata": {},
   "outputs": [],
   "source": [
    "cursor.execute()\n",
    "cursor.fetchall()"
   ]
  },
  {
   "cell_type": "code",
   "execution_count": 128,
   "metadata": {},
   "outputs": [
    {
     "data": {
      "text/plain": [
       "pymysql.connections.Connection"
      ]
     },
     "execution_count": 128,
     "metadata": {},
     "output_type": "execute_result"
    }
   ],
   "source": [
    "type(db)"
   ]
  },
  {
   "cell_type": "markdown",
   "metadata": {},
   "source": [
    "### Juchao"
   ]
  },
  {
   "cell_type": "markdown",
   "metadata": {},
   "source": [
    "### 类的定义"
   ]
  },
  {
   "cell_type": "code",
   "execution_count": 22,
   "metadata": {},
   "outputs": [],
   "source": [
    "import config\n",
    "from config import database_config\n",
    "import pymysql\n",
    "import threading\n",
    "import time\n",
    "import asyncio\n",
    "connect_dict = database_config.connect_config\n",
    "\n",
    "\n",
    "def rt_print(f):\n",
    "    def wrapper(*args,**kwargs):\n",
    "        res = f(*args,**kwargs)\n",
    "        print(res)\n",
    "        return res\n",
    "    return wrapper\n",
    "\n",
    "\n",
    "class MyDb(pymysql.connect):\n",
    "    def __init__(self,database) -> None:\n",
    "        print(\"正在建立MySQL连接...\")\n",
    "        pymysql.connect.__init__(self,database=database,**connect_dict)\n",
    "        print(\"已建立MySQL连接\")\n",
    "        self.cursor = self.cursor()\n",
    "        self.execute = self.cursor.execute\n",
    "        self.fetch = rt_print(self.cursor.fetchall)\n",
    "        pass\n",
    "\n",
    "    def __del__(self):\n",
    "        print(\"已关闭MySQL连接\")\n",
    "\n"
   ]
  },
  {
   "cell_type": "code",
   "execution_count": null,
   "metadata": {},
   "outputs": [],
   "source": [
    "aprint = print()"
   ]
  },
  {
   "cell_type": "code",
   "execution_count": 516,
   "metadata": {},
   "outputs": [
    {
     "name": "stdout",
     "output_type": "stream",
     "text": [
      "Ready to sleep 5s ...\n"
     ]
    }
   ],
   "source": [
    "db.ping(True)"
   ]
  },
  {
   "cell_type": "code",
   "execution_count": 438,
   "metadata": {},
   "outputs": [],
   "source": [
    "db.ping(False)"
   ]
  },
  {
   "cell_type": "markdown",
   "metadata": {},
   "source": [
    "#### 初始化MyDb"
   ]
  },
  {
   "cell_type": "code",
   "execution_count": 23,
   "metadata": {},
   "outputs": [
    {
     "name": "stdout",
     "output_type": "stream",
     "text": [
      "正在建立MySQL连接...\n",
      "已建立MySQL连接\n"
     ]
    }
   ],
   "source": [
    "mdb = MyDb('Juchao')"
   ]
  },
  {
   "cell_type": "code",
   "execution_count": 3,
   "metadata": {},
   "outputs": [
    {
     "name": "stdout",
     "output_type": "stream",
     "text": [
      "已创建Keep_Alive线程\n",
      "Ready to sleep 5s ...\n"
     ]
    }
   ],
   "source": [
    "mdb.keep_alive()"
   ]
  },
  {
   "cell_type": "code",
   "execution_count": 3,
   "metadata": {},
   "outputs": [
    {
     "data": {
      "text/plain": [
       "{'_local_infile': False,\n",
       " 'ssl': False,\n",
       " 'host': '148.100.76.200',\n",
       " 'port': 3306,\n",
       " 'user': b'root',\n",
       " 'password': b'@Shizheyuan0629',\n",
       " 'db': b'Juchao',\n",
       " 'unix_socket': None,\n",
       " 'bind_address': None,\n",
       " 'connect_timeout': 10,\n",
       " '_read_timeout': None,\n",
       " '_write_timeout': None,\n",
       " 'charset': 'utf8mb4',\n",
       " 'use_unicode': True,\n",
       " 'encoding': 'utf8',\n",
       " 'client_flag': 3842573,\n",
       " 'cursorclass': pymysql.cursors.Cursor,\n",
       " '_result': None,\n",
       " '_affected_rows': 0,\n",
       " 'host_info': 'socket 148.100.76.200:3306',\n",
       " 'autocommit_mode': False,\n",
       " 'encoders': {bool: <function pymysql.converters.escape_bool(value, mapping=None)>,\n",
       "  int: <function pymysql.converters.escape_int(value, mapping=None)>,\n",
       "  float: <function pymysql.converters.escape_float(value, mapping=None)>,\n",
       "  str: <function pymysql.converters.escape_str(value, mapping=None)>,\n",
       "  bytes: <function pymysql.converters.escape_bytes(value, mapping=None)>,\n",
       "  tuple: <function pymysql.converters.escape_sequence(val, charset, mapping=None)>,\n",
       "  list: <function pymysql.converters.escape_sequence(val, charset, mapping=None)>,\n",
       "  set: <function pymysql.converters.escape_sequence(val, charset, mapping=None)>,\n",
       "  frozenset: <function pymysql.converters.escape_sequence(val, charset, mapping=None)>,\n",
       "  dict: <function pymysql.converters.escape_dict(val, charset, mapping=None)>,\n",
       "  NoneType: <function pymysql.converters.escape_None(value, mapping=None)>,\n",
       "  datetime.date: <function pymysql.converters.escape_date(obj, mapping=None)>,\n",
       "  datetime.datetime: <function pymysql.converters.escape_datetime(obj, mapping=None)>,\n",
       "  datetime.timedelta: <function pymysql.converters.escape_timedelta(obj, mapping=None)>,\n",
       "  datetime.time: <function pymysql.converters.escape_time(obj, mapping=None)>,\n",
       "  time.struct_time: <function pymysql.converters.escape_struct_time(obj, mapping=None)>,\n",
       "  decimal.Decimal: <function pymysql.converters.Decimal2Literal(o, d)>},\n",
       " 'decoders': {16: <function pymysql.converters.through(x)>,\n",
       "  1: int,\n",
       "  2: int,\n",
       "  3: int,\n",
       "  4: float,\n",
       "  5: float,\n",
       "  8: int,\n",
       "  9: int,\n",
       "  13: int,\n",
       "  7: <function pymysql.converters.convert_datetime(obj)>,\n",
       "  12: <function pymysql.converters.convert_datetime(obj)>,\n",
       "  11: <function pymysql.converters.convert_timedelta(obj)>,\n",
       "  10: <function pymysql.converters.convert_date(obj)>,\n",
       "  252: <function pymysql.converters.through(x)>,\n",
       "  249: <function pymysql.converters.through(x)>,\n",
       "  250: <function pymysql.converters.through(x)>,\n",
       "  251: <function pymysql.converters.through(x)>,\n",
       "  254: <function pymysql.converters.through(x)>,\n",
       "  253: <function pymysql.converters.through(x)>,\n",
       "  15: <function pymysql.converters.through(x)>,\n",
       "  0: decimal.Decimal,\n",
       "  246: decimal.Decimal},\n",
       " 'sql_mode': None,\n",
       " 'init_command': None,\n",
       " 'max_allowed_packet': 16777216,\n",
       " '_auth_plugin_map': {},\n",
       " '_binary_prefix': False,\n",
       " 'server_public_key': None,\n",
       " '_connect_attrs': {'_client_name': 'pymysql',\n",
       "  '_pid': '610763',\n",
       "  '_client_version': '1.0.2'},\n",
       " '_closed': False,\n",
       " '_sock': <socket.socket fd=120, family=AddressFamily.AF_INET, type=SocketKind.SOCK_STREAM, proto=6, laddr=('192.168.43.2', 39210), raddr=('148.100.76.200', 3306)>,\n",
       " '_rfile': <_io.BufferedReader name=120>,\n",
       " '_next_seq_id': 2,\n",
       " 'protocol_version': 10,\n",
       " 'server_version': '8.0.31-0ubuntu0.22.04.1',\n",
       " 'server_thread_id': (60,),\n",
       " 'salt': b'l5o\\x01`\\x16\\x12\\x14\\x0e*\\x1b\\x06/tmaFo%6',\n",
       " 'server_capabilities': 3758096383,\n",
       " 'server_language': 255,\n",
       " 'server_charset': 'utf8mb4',\n",
       " 'server_status': 0,\n",
       " '_auth_plugin_name': 'caching_sha2_password',\n",
       " 'cursor': <pymysql.cursors.Cursor at 0x7fedccf4d190>,\n",
       " 'execute': <bound method Cursor.execute of <pymysql.cursors.Cursor object at 0x7fedccf4d190>>}"
      ]
     },
     "execution_count": 3,
     "metadata": {},
     "output_type": "execute_result"
    }
   ],
   "source": [
    "mdb.__dict__"
   ]
  },
  {
   "cell_type": "markdown",
   "metadata": {},
   "source": [
    "#### 操作MyDb"
   ]
  },
  {
   "cell_type": "code",
   "execution_count": 24,
   "metadata": {},
   "outputs": [
    {
     "data": {
      "text/plain": [
       "0"
      ]
     },
     "execution_count": 24,
     "metadata": {},
     "output_type": "execute_result"
    }
   ],
   "source": [
    "mdb.execute(\"use Juchao\")"
   ]
  },
  {
   "cell_type": "code",
   "execution_count": 25,
   "metadata": {},
   "outputs": [
    {
     "data": {
      "text/plain": [
       "2"
      ]
     },
     "execution_count": 25,
     "metadata": {},
     "output_type": "execute_result"
    }
   ],
   "source": [
    "mdb.execute(\"SHOW TABLES\")"
   ]
  },
  {
   "cell_type": "code",
   "execution_count": 8,
   "metadata": {},
   "outputs": [
    {
     "data": {
      "text/plain": [
       "()"
      ]
     },
     "execution_count": 8,
     "metadata": {},
     "output_type": "execute_result"
    }
   ],
   "source": [
    "mdb.cursor.fetchall()"
   ]
  },
  {
   "cell_type": "code",
   "execution_count": 26,
   "metadata": {},
   "outputs": [
    {
     "data": {
      "text/plain": [
       "3"
      ]
     },
     "execution_count": 26,
     "metadata": {},
     "output_type": "execute_result"
    }
   ],
   "source": [
    "mdb.execute(\"SELECT * FROM 社会及ok\")"
   ]
  },
  {
   "cell_type": "code",
   "execution_count": 27,
   "metadata": {},
   "outputs": [
    {
     "name": "stdout",
     "output_type": "stream",
     "text": [
      "(('000039', '中集集团', 'gssz0000039', '1204526484', '中集集团：2017年<em>社会</em>责任暨环境、<em>社会</em><em>及</em><em>管治</em>报告', '中集集团：2017年社会责任暨环境、社会及管治报告', 1522166400000, 2018, 'finalpage/2018-03-28/1204526484.PDF', datetime.date(2023, 1, 18), 81, 44213), ('000039', '中集集团', 'gssz0000039', '1205949450', '中集集团：2018<em>社会</em>责任暨环境、<em>社会</em><em>及</em><em>管治</em>报告', '中集集团：2018社会责任暨环境、社会及管治报告', 1553702400000, 2019, 'finalpage/2019-03-28/1205949450.PDF', datetime.date(2023, 1, 18), 100, 73065), ('000039', '中集集团', 'gssz0000039', '1207411179', '中集集团：<em>社会</em>责任暨环境、<em>社会</em><em>及</em><em>管治</em>报告（2019）', '中集集团：社会责任暨环境、社会及管治报告（2019）', 1585238400000, 2020, 'finalpage/2020-03-27/1207411179.PDF', datetime.date(2023, 1, 18), 92, 63008))\n"
     ]
    },
    {
     "data": {
      "text/plain": [
       "(('000039',\n",
       "  '中集集团',\n",
       "  'gssz0000039',\n",
       "  '1204526484',\n",
       "  '中集集团：2017年<em>社会</em>责任暨环境、<em>社会</em><em>及</em><em>管治</em>报告',\n",
       "  '中集集团：2017年社会责任暨环境、社会及管治报告',\n",
       "  1522166400000,\n",
       "  2018,\n",
       "  'finalpage/2018-03-28/1204526484.PDF',\n",
       "  datetime.date(2023, 1, 18),\n",
       "  81,\n",
       "  44213),\n",
       " ('000039',\n",
       "  '中集集团',\n",
       "  'gssz0000039',\n",
       "  '1205949450',\n",
       "  '中集集团：2018<em>社会</em>责任暨环境、<em>社会</em><em>及</em><em>管治</em>报告',\n",
       "  '中集集团：2018社会责任暨环境、社会及管治报告',\n",
       "  1553702400000,\n",
       "  2019,\n",
       "  'finalpage/2019-03-28/1205949450.PDF',\n",
       "  datetime.date(2023, 1, 18),\n",
       "  100,\n",
       "  73065),\n",
       " ('000039',\n",
       "  '中集集团',\n",
       "  'gssz0000039',\n",
       "  '1207411179',\n",
       "  '中集集团：<em>社会</em>责任暨环境、<em>社会</em><em>及</em><em>管治</em>报告（2019）',\n",
       "  '中集集团：社会责任暨环境、社会及管治报告（2019）',\n",
       "  1585238400000,\n",
       "  2020,\n",
       "  'finalpage/2020-03-27/1207411179.PDF',\n",
       "  datetime.date(2023, 1, 18),\n",
       "  92,\n",
       "  63008))"
      ]
     },
     "execution_count": 27,
     "metadata": {},
     "output_type": "execute_result"
    }
   ],
   "source": [
    "mdb.fetch()"
   ]
  },
  {
   "cell_type": "code",
   "execution_count": 14,
   "metadata": {},
   "outputs": [
    {
     "data": {
      "text/plain": [
       "3"
      ]
     },
     "execution_count": 14,
     "metadata": {},
     "output_type": "execute_result"
    }
   ],
   "source": [
    "mdb.execute(generate_insert_sql('社会及ok',rows))\n"
   ]
  },
  {
   "cell_type": "code",
   "execution_count": 15,
   "metadata": {},
   "outputs": [
    {
     "data": {
      "text/plain": [
       "3"
      ]
     },
     "execution_count": 15,
     "metadata": {},
     "output_type": "execute_result"
    }
   ],
   "source": [
    "mdb.cursor.execute(\"SELECT * FROM 社会及ok\")"
   ]
  },
  {
   "cell_type": "code",
   "execution_count": 17,
   "metadata": {},
   "outputs": [
    {
     "data": {
      "text/plain": [
       "(('000039',\n",
       "  '中集集团',\n",
       "  'gssz0000039',\n",
       "  '1204526484',\n",
       "  '中集集团：2017年<em>社会</em>责任暨环境、<em>社会</em><em>及</em><em>管治</em>报告',\n",
       "  '中集集团：2017年社会责任暨环境、社会及管治报告',\n",
       "  1522166400000,\n",
       "  2018,\n",
       "  'finalpage/2018-03-28/1204526484.PDF',\n",
       "  datetime.date(2023, 1, 18),\n",
       "  81,\n",
       "  44213),\n",
       " ('000039',\n",
       "  '中集集团',\n",
       "  'gssz0000039',\n",
       "  '1205949450',\n",
       "  '中集集团：2018<em>社会</em>责任暨环境、<em>社会</em><em>及</em><em>管治</em>报告',\n",
       "  '中集集团：2018社会责任暨环境、社会及管治报告',\n",
       "  1553702400000,\n",
       "  2019,\n",
       "  'finalpage/2019-03-28/1205949450.PDF',\n",
       "  datetime.date(2023, 1, 18),\n",
       "  100,\n",
       "  73065),\n",
       " ('000039',\n",
       "  '中集集团',\n",
       "  'gssz0000039',\n",
       "  '1207411179',\n",
       "  '中集集团：<em>社会</em>责任暨环境、<em>社会</em><em>及</em><em>管治</em>报告（2019）',\n",
       "  '中集集团：社会责任暨环境、社会及管治报告（2019）',\n",
       "  1585238400000,\n",
       "  2020,\n",
       "  'finalpage/2020-03-27/1207411179.PDF',\n",
       "  datetime.date(2023, 1, 18),\n",
       "  92,\n",
       "  63008))"
      ]
     },
     "execution_count": 17,
     "metadata": {},
     "output_type": "execute_result"
    }
   ],
   "source": [
    "mdb.cursor.fetchall()\n"
   ]
  },
  {
   "cell_type": "code",
   "execution_count": 18,
   "metadata": {},
   "outputs": [],
   "source": [
    "mdb.commit()\n"
   ]
  },
  {
   "cell_type": "code",
   "execution_count": 19,
   "metadata": {},
   "outputs": [],
   "source": [
    "mdb.close()"
   ]
  },
  {
   "cell_type": "code",
   "execution_count": 14,
   "metadata": {},
   "outputs": [
    {
     "name": "stdout",
     "output_type": "stream",
     "text": [
      "Ready to sleep 5s ...\n"
     ]
    },
    {
     "name": "stdout",
     "output_type": "stream",
     "text": [
      "Ready to sleep 5s ...\n"
     ]
    },
    {
     "name": "stderr",
     "output_type": "stream",
     "text": [
      "/tmp/ipykernel_610424/2828508941.py:14: RuntimeWarning: coroutine 'sleep' was never awaited\n",
      "  asyncio.sleep(5)\n",
      "RuntimeWarning: Enable tracemalloc to get the object allocation traceback\n"
     ]
    },
    {
     "name": "stdout",
     "output_type": "stream",
     "text": [
      "Ready to sleep 5s ...\n",
      "Ready to sleep 5s ...\n"
     ]
    }
   ],
   "source": [
    "del(mdb)"
   ]
  },
  {
   "cell_type": "code",
   "execution_count": 527,
   "metadata": {},
   "outputs": [
    {
     "ename": "InterfaceError",
     "evalue": "(0, '')",
     "output_type": "error",
     "traceback": [
      "\u001b[0;31m---------------------------------------------------------------------------\u001b[0m",
      "\u001b[0;31mInterfaceError\u001b[0m                            Traceback (most recent call last)",
      "\u001b[1;32m/home/arcsinszy/project/parse_code/test_db.ipynb Cell 64\u001b[0m in \u001b[0;36m<module>\u001b[0;34m\u001b[0m\n\u001b[0;32m----> <a href='vscode-notebook-cell:/home/arcsinszy/project/parse_code/test_db.ipynb#X66sZmlsZQ%3D%3D?line=0'>1</a>\u001b[0m mdb\u001b[39m.\u001b[39;49mexecute(\u001b[39m\"\u001b[39;49m\u001b[39mSHOW TABLES;\u001b[39;49m\u001b[39m\"\u001b[39;49m)\n",
      "File \u001b[0;32m~/.local/lib/python3.8/site-packages/pymysql/cursors.py:148\u001b[0m, in \u001b[0;36mCursor.execute\u001b[0;34m(self, query, args)\u001b[0m\n\u001b[1;32m    144\u001b[0m     \u001b[39mpass\u001b[39;00m\n\u001b[1;32m    146\u001b[0m query \u001b[39m=\u001b[39m \u001b[39mself\u001b[39m\u001b[39m.\u001b[39mmogrify(query, args)\n\u001b[0;32m--> 148\u001b[0m result \u001b[39m=\u001b[39m \u001b[39mself\u001b[39;49m\u001b[39m.\u001b[39;49m_query(query)\n\u001b[1;32m    149\u001b[0m \u001b[39mself\u001b[39m\u001b[39m.\u001b[39m_executed \u001b[39m=\u001b[39m query\n\u001b[1;32m    150\u001b[0m \u001b[39mreturn\u001b[39;00m result\n",
      "File \u001b[0;32m~/.local/lib/python3.8/site-packages/pymysql/cursors.py:310\u001b[0m, in \u001b[0;36mCursor._query\u001b[0;34m(self, q)\u001b[0m\n\u001b[1;32m    308\u001b[0m \u001b[39mself\u001b[39m\u001b[39m.\u001b[39m_last_executed \u001b[39m=\u001b[39m q\n\u001b[1;32m    309\u001b[0m \u001b[39mself\u001b[39m\u001b[39m.\u001b[39m_clear_result()\n\u001b[0;32m--> 310\u001b[0m conn\u001b[39m.\u001b[39;49mquery(q)\n\u001b[1;32m    311\u001b[0m \u001b[39mself\u001b[39m\u001b[39m.\u001b[39m_do_get_result()\n\u001b[1;32m    312\u001b[0m \u001b[39mreturn\u001b[39;00m \u001b[39mself\u001b[39m\u001b[39m.\u001b[39mrowcount\n",
      "File \u001b[0;32m~/.local/lib/python3.8/site-packages/pymysql/connections.py:547\u001b[0m, in \u001b[0;36mConnection.query\u001b[0;34m(self, sql, unbuffered)\u001b[0m\n\u001b[1;32m    545\u001b[0m \u001b[39mif\u001b[39;00m \u001b[39misinstance\u001b[39m(sql, \u001b[39mstr\u001b[39m):\n\u001b[1;32m    546\u001b[0m     sql \u001b[39m=\u001b[39m sql\u001b[39m.\u001b[39mencode(\u001b[39mself\u001b[39m\u001b[39m.\u001b[39mencoding, \u001b[39m\"\u001b[39m\u001b[39msurrogateescape\u001b[39m\u001b[39m\"\u001b[39m)\n\u001b[0;32m--> 547\u001b[0m \u001b[39mself\u001b[39;49m\u001b[39m.\u001b[39;49m_execute_command(COMMAND\u001b[39m.\u001b[39;49mCOM_QUERY, sql)\n\u001b[1;32m    548\u001b[0m \u001b[39mself\u001b[39m\u001b[39m.\u001b[39m_affected_rows \u001b[39m=\u001b[39m \u001b[39mself\u001b[39m\u001b[39m.\u001b[39m_read_query_result(unbuffered\u001b[39m=\u001b[39munbuffered)\n\u001b[1;32m    549\u001b[0m \u001b[39mreturn\u001b[39;00m \u001b[39mself\u001b[39m\u001b[39m.\u001b[39m_affected_rows\n",
      "File \u001b[0;32m~/.local/lib/python3.8/site-packages/pymysql/connections.py:793\u001b[0m, in \u001b[0;36mConnection._execute_command\u001b[0;34m(self, command, sql)\u001b[0m\n\u001b[1;32m    788\u001b[0m \u001b[39m\"\"\"\u001b[39;00m\n\u001b[1;32m    789\u001b[0m \u001b[39m:raise InterfaceError: If the connection is closed.\u001b[39;00m\n\u001b[1;32m    790\u001b[0m \u001b[39m:raise ValueError: If no username was specified.\u001b[39;00m\n\u001b[1;32m    791\u001b[0m \u001b[39m\"\"\"\u001b[39;00m\n\u001b[1;32m    792\u001b[0m \u001b[39mif\u001b[39;00m \u001b[39mnot\u001b[39;00m \u001b[39mself\u001b[39m\u001b[39m.\u001b[39m_sock:\n\u001b[0;32m--> 793\u001b[0m     \u001b[39mraise\u001b[39;00m err\u001b[39m.\u001b[39mInterfaceError(\u001b[39m0\u001b[39m, \u001b[39m\"\u001b[39m\u001b[39m\"\u001b[39m)\n\u001b[1;32m    795\u001b[0m \u001b[39m# If the last query was unbuffered, make sure it finishes before\u001b[39;00m\n\u001b[1;32m    796\u001b[0m \u001b[39m# sending new commands\u001b[39;00m\n\u001b[1;32m    797\u001b[0m \u001b[39mif\u001b[39;00m \u001b[39mself\u001b[39m\u001b[39m.\u001b[39m_result \u001b[39mis\u001b[39;00m \u001b[39mnot\u001b[39;00m \u001b[39mNone\u001b[39;00m:\n",
      "\u001b[0;31mInterfaceError\u001b[0m: (0, '')"
     ]
    }
   ],
   "source": [
    "mdb.execute(\"SHOW TABLES;\")"
   ]
  },
  {
   "cell_type": "code",
   "execution_count": 528,
   "metadata": {},
   "outputs": [
    {
     "data": {
      "text/plain": [
       "()"
      ]
     },
     "execution_count": 528,
     "metadata": {},
     "output_type": "execute_result"
    },
    {
     "name": "stdout",
     "output_type": "stream",
     "text": [
      "Ready to sleep 5s ...\n"
     ]
    }
   ],
   "source": [
    "mdb.cursor.fetchall()"
   ]
  },
  {
   "cell_type": "code",
   "execution_count": null,
   "metadata": {},
   "outputs": [],
   "source": [
    "param_dict = {\n",
    "        # 搜索的关键词，如【'企业社会责任'】\n",
    "        'searchkey':'社会及管治',\n",
    "        # 发布起始时间，如【'2023-01-04'】【''表示不进行限制 】 \n",
    "        'sdate':'', \n",
    "        # 发布截止时间，如【'2023-02-24'】【''表示不进行限制 】\n",
    "        'edate':'', \n",
    "        # 是否进行全文搜索，【'false'为只搜索标题，'true'为搜索全文 】\n",
    "        'isfulltext':'false', \n",
    "        # 板块筛选，【''为全部板块，'shj'为深沪京，'s'为三板... 】\n",
    "        'type':'shj', \n",
    "    }\n",
    "\n",
    "tablename = param_dict['searchkey']\n"
   ]
  },
  {
   "cell_type": "code",
   "execution_count": 147,
   "metadata": {},
   "outputs": [
    {
     "ename": "AttributeError",
     "evalue": "'MyDb' object has no attribute 'ping'",
     "output_type": "error",
     "traceback": [
      "\u001b[0;31m---------------------------------------------------------------------------\u001b[0m",
      "\u001b[0;31mAttributeError\u001b[0m                            Traceback (most recent call last)",
      "\u001b[1;32m/home/arcsinszy/project/parse_code/test_db.ipynb Cell 48\u001b[0m in \u001b[0;36m<module>\u001b[0;34m\u001b[0m\n\u001b[0;32m----> <a href='vscode-notebook-cell:/home/arcsinszy/project/parse_code/test_db.ipynb#Y101sZmlsZQ%3D%3D?line=0'>1</a>\u001b[0m mdb\u001b[39m.\u001b[39;49mping(\u001b[39m1\u001b[39m)\n",
      "\u001b[0;31mAttributeError\u001b[0m: 'MyDb' object has no attribute 'ping'"
     ]
    }
   ],
   "source": [
    "mdb.execute(\"\"\"CREATE TABLE \"\"\",)"
   ]
  },
  {
   "cell_type": "markdown",
   "metadata": {},
   "source": [
    "### 快速创建字典"
   ]
  },
  {
   "cell_type": "code",
   "execution_count": 167,
   "metadata": {},
   "outputs": [],
   "source": [
    "param_dict = {\n",
    "        # 搜索的关键词，如【'企业社会责任'】\n",
    "        'searchkey':'社会及管治',\n",
    "        # 发布起始时间，如【'2023-01-04'】【''表示不进行限制 】 \n",
    "        'sdate':'', \n",
    "        # 发布截止时间，如【'2023-02-24'】【''表示不进行限制 】\n",
    "        'edate':'', \n",
    "        # 是否进行全文搜索，【'false'为只搜索标题，'true'为搜索全文 】\n",
    "        'isfulltext':'false', \n",
    "        # 板块筛选，【''为全部板块，'shj'为深沪京，'s'为三板... 】\n",
    "        'type':'shj', \n",
    "    }"
   ]
  },
  {
   "cell_type": "code",
   "execution_count": 174,
   "metadata": {},
   "outputs": [
    {
     "data": {
      "text/plain": [
       "{'column_main': '社会及管治',\n",
       " 'column_2': '',\n",
       " 'column_3': '',\n",
       " 'column_4': 'false',\n",
       " 'column_5': 'shj'}"
      ]
     },
     "execution_count": 174,
     "metadata": {},
     "output_type": "execute_result"
    }
   ],
   "source": [
    "{key:value for key,value in zip(['column_main','column_2','column_3',\n",
    "'column_4','column_5'],param_dict.values())}"
   ]
  },
  {
   "cell_type": "markdown",
   "metadata": {},
   "source": [
    "## 生成语句函数"
   ]
  },
  {
   "cell_type": "markdown",
   "metadata": {},
   "source": [
    "### 创建表格语句"
   ]
  },
  {
   "cell_type": "code",
   "execution_count": 228,
   "metadata": {},
   "outputs": [],
   "source": [
    "\"\"\"CREATE TABLE IF NOT EXISTS '%(table_name)s'{\n",
    "    \n",
    "\n",
    "}\n",
    "\"\"\"\n",
    "\n",
    "# res_dict = {\n",
    "#     'secCode':an_dict['secCode'],\n",
    "#     'secName':an_dict['secName'],\n",
    "#     'orgId':an_dict['orgId'],\n",
    "#     'announcementId':an_dict['announcementId'],\n",
    "#     'announcementTitle':an_dict['announcementTitle'],\n",
    "#     'announcement_title':reFormat.remove_em(an_dict['announcementTitle']),\n",
    "#     'announcementTime':an_dict['announcementTime'],\n",
    "#     'announcement_year':myTime(an_dict['announcementTime']/1000).year, # 实际时间如'2018-03-28 00:00:10'\n",
    "#     'adjunctUrl':an_dict['adjunctUrl'],\n",
    "#     'record_time':myTime(time.time()).date, # 记录日期\n",
    "# }\n",
    "columns_key = [\n",
    "        'secCode',\n",
    "        'secName',\n",
    "        'orgId',\n",
    "        'announcementId',\n",
    "        'announcementTitle',\n",
    "        ]\n",
    "    # {'id': None, 'secCode': '000039', 'secName': '中集集团', \n",
    "    # 'orgId': 'gssz0000039', 'announcementId': '1204526484', \n",
    "    # 'announcementTitle': '中集集团：2017年<em>社会</em>责任暨环境、<em>社会</em><em>及</em><em>管治</em>报告', \n",
    "    # 'announcementTime': 1522166400000, 'adjunctUrl': 'finalpage/2018-03-28/1204526484.PDF', \n",
    "    # 'adjunctSize': 2190, 'adjunctType': 'PDF', 'storageTime': None, \n",
    "    # 'columnId': '09020202||250101||251302', 'pageColumn': 'SZZB', \n",
    "    # 'announcementType': '01010503||010112||01239999', 'associateAnnouncement': None, \n",
    "    # 'important': None, 'batchNum': None, 'announcementContent': None, 'orgName': None, \n",
    "    # 'announcementTypeName': None}\n",
    "column_dict = {\n",
    "    'secCode':'VARCHAR(20) NOT NULL',\n",
    "    'secName':'VARCHAR(30) NOT NULL',\n",
    "    'orgId':'VARCHAR(50)',\n",
    "    'announcementId':'VARCHAR(30) NOT NULL',\n",
    "    'announcementTitle':'VARCHAR(100) NOT NULL',\n",
    "    'announcement_title':'VARCHAR(100) NOT NULL',\n",
    "    'announcementTime':'BIGINT UNSIGNED',\n",
    "    'announcement_year':'YEAR', # 实际时间如'2018'\n",
    "    'adjunctUrl':'VARCHAR(100) NOT NULL',\n",
    "    'record_time':'DATE', # 记录日期\n",
    "    'pages_num':'INT UNSIGNED',\n",
    "    'words_num':'BIGINT UNSIGNED'\n",
    "}\n",
    "\n",
    "\n",
    "def generate_create_sql(table_name,columns_infos_dict,primary_key):\n",
    "    \"\"\"For Example:\n",
    "    columns_infos_dict = {\n",
    "    'secCode':'VARCHAR(20) NOT NULL',\n",
    "    'secName':'VARCHAR(30) NOT NULL',\n",
    "    'orgId':'VARCHAR(50)',\n",
    "    'announcementId':'VARCHAR(30) NOT NULL',\n",
    "    'announcementTitle':'VARCHAR(100) NOT NULL',\n",
    "    'announcement_title':'VARCHAR(100) NOT NULL',\n",
    "    'announcementTime':'BIGINT UNSIGNED',\n",
    "    'announcement_year':'YEAR', # 实际时间如'2018'\n",
    "    'adjunctUrl':'VARCHAR(100) NOT NULL',\n",
    "    'record_time':'DATE', # 记录日期\n",
    "    'pages_num':'INT UNSIGNED',\n",
    "    'words_num':'BIGINT UNSIGNED'\n",
    "}\"\"\"\n",
    "    sql = f\"CREATE TABLE IF NOT EXISTS `{table_name}`\" + \"\"\"(\n",
    "    \"\"\" + ',\\n    '.join( [f\"`{key}` {value}\" for key,value in columns_infos_dict.items()] ) +f\"\"\",\n",
    "    PRIMARY KEY ( `{primary_key}` )\n",
    ")CHARSET=utf8;\"\"\"\n",
    "    return sql"
   ]
  },
  {
   "cell_type": "code",
   "execution_count": 229,
   "metadata": {},
   "outputs": [
    {
     "name": "stdout",
     "output_type": "stream",
     "text": [
      "CREATE TABLE IF NOT EXISTS `社会及ok`(\n",
      "    `secCode` VARCHAR(20) NOT NULL,\n",
      "    `secName` VARCHAR(30) NOT NULL,\n",
      "    `orgId` VARCHAR(50),\n",
      "    `announcementId` VARCHAR(30) NOT NULL,\n",
      "    `announcementTitle` VARCHAR(100) NOT NULL,\n",
      "    `announcement_title` VARCHAR(100) NOT NULL,\n",
      "    `announcementTime` BIGINT UNSIGNED,\n",
      "    `announcement_year` YEAR,\n",
      "    `adjunctUrl` VARCHAR(100) NOT NULL,\n",
      "    `record_time` DATE,\n",
      "    `pages_num` INT UNSIGNED,\n",
      "    `words_num` BIGINT UNSIGNED,\n",
      "    PRIMARY KEY ( `announcementId` )\n",
      ")CHARSET=utf8;\n"
     ]
    }
   ],
   "source": [
    "print(generate_create_sql('社会及ok',column_dict,'announcementId'))"
   ]
  },
  {
   "cell_type": "code",
   "execution_count": 187,
   "metadata": {},
   "outputs": [],
   "source": [
    "build_string = \"\"\",\\n\"\"\".join( [f\"\"\"'{key}' {value}\"\"\" for key,value in column_dict.items()] )"
   ]
  },
  {
   "cell_type": "code",
   "execution_count": 188,
   "metadata": {},
   "outputs": [
    {
     "name": "stdout",
     "output_type": "stream",
     "text": [
      "'secCode' VARCHAR(20) NOT NULL,\n",
      "'secName' VARCHAR(30) NOT NULL,\n",
      "'orgId' VARCHAR(50),\n",
      "'announcementId' VARCHAR(30) NOT NULL,\n",
      "'announcementTitle' VARCHAR(100) NOT NULL,\n",
      "'announcement_title' VARCHAR(100) NOT NULL,\n",
      "'announcementTime' BIGINT UNSIGNED,\n",
      "'announcement_year' YEAR,\n",
      "'adjunctUrl' VARCHAR(100) NOT NULL,\n",
      "'record_time' DATE,\n",
      "'pages_num' INT UNSIGNED,\n",
      "'words_num' BIGINT UNSIGNED\n"
     ]
    }
   ],
   "source": [
    "print(build_string)"
   ]
  },
  {
   "cell_type": "code",
   "execution_count": 177,
   "metadata": {},
   "outputs": [
    {
     "data": {
      "text/plain": [
       "35"
      ]
     },
     "execution_count": 177,
     "metadata": {},
     "output_type": "execute_result"
    }
   ],
   "source": [
    "len('finalpage/2018-03-28/1204526484.PDF')"
   ]
  },
  {
   "cell_type": "code",
   "execution_count": 176,
   "metadata": {},
   "outputs": [
    {
     "data": {
      "text/plain": [
       "5.058657902308816"
      ]
     },
     "execution_count": 176,
     "metadata": {},
     "output_type": "execute_result"
    }
   ],
   "source": [
    "a = 1522166400000\n",
    "import math\n",
    "math.log2(a)/8"
   ]
  },
  {
   "cell_type": "markdown",
   "metadata": {},
   "source": [
    "### 插入语句函数"
   ]
  },
  {
   "cell_type": "code",
   "execution_count": 13,
   "metadata": {},
   "outputs": [],
   "source": [
    "def generate_values(input_dict):\n",
    "    values = '(' + ','.join([f\"\"\"\\\"{value}\\\"\"\"\" for value in input_dict.values()]) + ')'\n",
    "    return values\n",
    "\n",
    "def generate_insert_sql(table_name,input_args):\n",
    "    \"\"\"可传入一个字典或多个共同键的字典列表\"\"\"\n",
    "    if type(input_args) == list:\n",
    "        column_names = ','.join(input_args[0].keys())\n",
    "    elif type(input_args) == dict:\n",
    "        column_names = ','.join(input_args.keys())\n",
    "    valuess = ','.join([generate_values(input_dict) for input_dict in input_args])\n",
    "    sql = f\"INSERT IGNORE INTO `{table_name}` ( {column_names} ) VALUES {valuess};\"\n",
    "    return sql"
   ]
  },
  {
   "cell_type": "code",
   "execution_count": 268,
   "metadata": {},
   "outputs": [
    {
     "data": {
      "text/plain": [
       "[1, 2, 3]"
      ]
     },
     "execution_count": 268,
     "metadata": {},
     "output_type": "execute_result"
    }
   ],
   "source": [
    "\n",
    "\n",
    "a = [1,2,3]\n",
    "list(a)"
   ]
  },
  {
   "cell_type": "code",
   "execution_count": 265,
   "metadata": {},
   "outputs": [
    {
     "data": {
      "text/plain": [
       "'(1,xxxx)'"
      ]
     },
     "execution_count": 265,
     "metadata": {},
     "output_type": "execute_result"
    }
   ],
   "source": [
    "','.join(['(1,xxxx)'])"
   ]
  },
  {
   "cell_type": "markdown",
   "metadata": {},
   "source": [
    "## 数据库语句分类"
   ]
  },
  {
   "cell_type": "markdown",
   "metadata": {},
   "source": [
    "### 【 持续连接 】"
   ]
  },
  {
   "cell_type": "code",
   "execution_count": 423,
   "metadata": {},
   "outputs": [
    {
     "ename": "KeyboardInterrupt",
     "evalue": "",
     "output_type": "error",
     "traceback": [
      "\u001b[0;31m---------------------------------------------------------------------------\u001b[0m",
      "\u001b[0;31mKeyboardInterrupt\u001b[0m                         Traceback (most recent call last)",
      "\u001b[1;32m/home/arcsinszy/project/parse_code/test_db.ipynb Cell 72\u001b[0m in \u001b[0;36m<module>\u001b[0;34m\u001b[0m\n\u001b[1;32m      <a href='vscode-notebook-cell:/home/arcsinszy/project/parse_code/test_db.ipynb#Y140sZmlsZQ%3D%3D?line=0'>1</a>\u001b[0m \u001b[39mimport\u001b[39;00m \u001b[39mtime\u001b[39;00m\n\u001b[1;32m      <a href='vscode-notebook-cell:/home/arcsinszy/project/parse_code/test_db.ipynb#Y140sZmlsZQ%3D%3D?line=1'>2</a>\u001b[0m \u001b[39mwhile\u001b[39;00m \u001b[39mTrue\u001b[39;00m:\n\u001b[0;32m----> <a href='vscode-notebook-cell:/home/arcsinszy/project/parse_code/test_db.ipynb#Y140sZmlsZQ%3D%3D?line=2'>3</a>\u001b[0m     time\u001b[39m.\u001b[39;49msleep(\u001b[39m5\u001b[39;49m)\n\u001b[1;32m      <a href='vscode-notebook-cell:/home/arcsinszy/project/parse_code/test_db.ipynb#Y140sZmlsZQ%3D%3D?line=3'>4</a>\u001b[0m     db\u001b[39m.\u001b[39mping(\u001b[39mTrue\u001b[39;00m)\n",
      "\u001b[0;31mKeyboardInterrupt\u001b[0m: "
     ]
    }
   ],
   "source": [
    "import time\n",
    "while True:\n",
    "    time.sleep(5)\n",
    "    db.ping(True)"
   ]
  },
  {
   "cell_type": "markdown",
   "metadata": {},
   "source": [
    "### 插入"
   ]
  },
  {
   "cell_type": "code",
   "execution_count": 10,
   "metadata": {},
   "outputs": [],
   "source": [
    "row1 = {'secCode': '000039', 'secName': '中集集团', 'orgId': 'gssz0000039', 'announcementId': '1204526484', 'announcementTitle': '中集集团：2017年<em>社会</em>责任暨环境、<em>社会</em><em>及</em><em>管治</em>报告', 'announcement_title': '中集集团：2017年社会责任暨环境、社会及管治报告', 'announcementTime': 1522166400000, 'announcement_year': '2018', 'adjunctUrl': 'finalpage/2018-03-28/1204526484.PDF', 'record_time': '2023-01-18', 'pages_num': 81, 'words_num': 44213}"
   ]
  },
  {
   "cell_type": "code",
   "execution_count": 11,
   "metadata": {},
   "outputs": [],
   "source": [
    "row2,row3 = [{'secCode': '000039', 'secName': '中集集团', 'orgId': 'gssz0000039', 'announcementId': '1205949450', 'announcementTitle': '中集集团：2018<em>社会</em>责任暨环境、<em>社会</em><em>及</em><em>管治</em>报告', 'announcement_title': '中集集团：2018社会责任暨环境、社会及管治报告', 'announcementTime': 1553702400000, 'announcement_year': '2019', 'adjunctUrl': 'finalpage/2019-03-28/1205949450.PDF', 'record_time': '2023-01-18', 'pages_num': 100, 'words_num': 73065}, {'secCode': '000039', 'secName': '中集集团', 'orgId': 'gssz0000039', 'announcementId': '1207411179', 'announcementTitle': '中集集团：<em>社会</em>责任暨环境、<em>社会</em><em>及</em><em>管治</em>报告（2019）', 'announcement_title': '中集集团：社会责任暨环境、社会及管治报告（2019）', 'announcementTime': 1585238400000, 'announcement_year': '2020', 'adjunctUrl': 'finalpage/2020-03-27/1207411179.PDF', 'record_time': '2023-01-18', 'pages_num': 92, 'words_num': 63008}]"
   ]
  },
  {
   "cell_type": "code",
   "execution_count": 243,
   "metadata": {},
   "outputs": [
    {
     "ename": "TypeError",
     "evalue": "sequence item 6: expected str instance, int found",
     "output_type": "error",
     "traceback": [
      "\u001b[0;31m---------------------------------------------------------------------------\u001b[0m",
      "\u001b[0;31mTypeError\u001b[0m                                 Traceback (most recent call last)",
      "\u001b[1;32m/home/arcsinszy/project/parse_code/test_db.ipynb Cell 68\u001b[0m in \u001b[0;36m<module>\u001b[0;34m\u001b[0m\n\u001b[0;32m----> <a href='vscode-notebook-cell:/home/arcsinszy/project/parse_code/test_db.ipynb#Y143sZmlsZQ%3D%3D?line=0'>1</a>\u001b[0m \u001b[39m'\u001b[39;49m\u001b[39m,\u001b[39;49m\u001b[39m'\u001b[39;49m\u001b[39m.\u001b[39;49mjoin(\u001b[39mlist\u001b[39;49m(row1\u001b[39m.\u001b[39;49mvalues()))\n",
      "\u001b[0;31mTypeError\u001b[0m: sequence item 6: expected str instance, int found"
     ]
    }
   ],
   "source": [
    "','.join(list(row1.values()))"
   ]
  },
  {
   "cell_type": "code",
   "execution_count": 345,
   "metadata": {},
   "outputs": [
    {
     "name": "stdout",
     "output_type": "stream",
     "text": [
      "\"000039\",\"中集集团\",\"gssz0000039\",\"1204526484\",\"中集集团：2017年<em>社会</em>责任暨环境、<em>社会</em><em>及</em><em>管治</em>报告\",\"中集集团：2017年社会责任暨环境、社会及管治报告\",'1522166400000',\"2018\",\"finalpage/2018-03-28/1204526484.PDF\",\"2023-01-18\",'81','44213'\n"
     ]
    }
   ],
   "source": [
    "# [\"\\\"\" + \"\\\"\"]\n",
    "res = ','.join([f\"\"\"\\\"{value}\\\"\"\"\" \n",
    "if type(value) == str else f\"\"\"'{value}'\"\"\"\n",
    "for value in row1.values() ])\n",
    "print(res)"
   ]
  },
  {
   "cell_type": "code",
   "execution_count": 254,
   "metadata": {},
   "outputs": [],
   "source": [
    "insert_command = f\"INSERT INTO 社会及ok VALUES ({res});\""
   ]
  },
  {
   "cell_type": "code",
   "execution_count": 337,
   "metadata": {},
   "outputs": [
    {
     "name": "stdout",
     "output_type": "stream",
     "text": [
      "\"000039\",\"中集集团\",\"gssz0000039\",\"1205949450\",\"中集集团：2018<em>社会</em>责任暨环境、<em>社会</em><em>及</em><em>管治</em>报告\",\"中集集团：2018社会责任暨环境、社会及管治报告\",\"1553702400000\",\"2019\",\"finalpage/2019-03-28/1205949450.PDF\",\"2023-01-18\",\"100\",\"73065\"\n",
      "\"000039\",\"中集集团\",\"gssz0000039\",\"1207411179\",\"中集集团：<em>社会</em>责任暨环境、<em>社会</em><em>及</em><em>管治</em>报告（2019）\",\"中集集团：社会责任暨环境、社会及管治报告（2019）\",\"1585238400000\",\"2020\",\"finalpage/2020-03-27/1207411179.PDF\",\"2023-01-18\",\"92\",\"63008\"\n"
     ]
    }
   ],
   "source": [
    "# [\"\\\"\" + \"\\\"\"]\n",
    "res2 = ','.join([f\"\"\"\\\"{value}\\\"\"\"\" \n",
    "for value in row2.values() ])\n",
    "print(res2)\n",
    "res3 = ','.join([f\"\"\"\\\"{value}\\\"\"\"\" \n",
    "for value in row3.values() ])\n",
    "print(res3)"
   ]
  },
  {
   "cell_type": "code",
   "execution_count": 306,
   "metadata": {},
   "outputs": [
    {
     "name": "stdout",
     "output_type": "stream",
     "text": [
      "\"000039\",\"中集集团\",\"gssz0000039\",\"1204526484\",\"中集集团：2017年<em>社会</em>责任暨环境、<em>社会</em><em>及</em><em>管治</em>报告\",\"中集集团：2017年社会责任暨环境、社会及管治报告\",'1522166400000',\"2018\",\"finalpage/2018-03-28/1204526484.PDF\",\"2023-01-18\",'81','44213'\n"
     ]
    }
   ],
   "source": [
    "# [\"\\\"\" + \"\\\"\"]\n",
    "res = ','.join([f\"\"\"\\\"{value}\\\"\"\"\" \n",
    "if type(value) == str else f\"\"\"'{value}'\"\"\"\n",
    "for value in row1.values() ])\n",
    "print(res)"
   ]
  },
  {
   "cell_type": "code",
   "execution_count": 329,
   "metadata": {},
   "outputs": [],
   "source": [
    "insert_command = f\"INSERT IGNORE INTO 社会及ok VALUES ({res});\""
   ]
  },
  {
   "cell_type": "code",
   "execution_count": 354,
   "metadata": {},
   "outputs": [],
   "source": [
    "insert_command = f\"INSERT IGNORE INTO 社会及ok VALUES ({res}),({res2});\"\n"
   ]
  },
  {
   "cell_type": "code",
   "execution_count": 403,
   "metadata": {},
   "outputs": [],
   "source": [
    "insert_command = f\"INSERT IGNORE INTO 社会及ok VALUES ({res2}),({res3});\"\n"
   ]
  },
  {
   "cell_type": "code",
   "execution_count": 369,
   "metadata": {},
   "outputs": [],
   "source": [
    "insert_command = f\"INSERT INTO 社会及ok VALUES ({res}),({res2}) ON DUPLICATE KEY UPDATE;\"\n"
   ]
  },
  {
   "cell_type": "code",
   "execution_count": 483,
   "metadata": {},
   "outputs": [
    {
     "data": {
      "text/plain": [
       "0"
      ]
     },
     "execution_count": 483,
     "metadata": {},
     "output_type": "execute_result"
    },
    {
     "name": "stdout",
     "output_type": "stream",
     "text": [
      "Ready to sleep 5s ...\n"
     ]
    }
   ],
   "source": [
    "cursor.execute(\"use Juchao;\")\n"
   ]
  },
  {
   "cell_type": "code",
   "execution_count": 341,
   "metadata": {},
   "outputs": [],
   "source": [
    "db.connect()"
   ]
  },
  {
   "cell_type": "code",
   "execution_count": 404,
   "metadata": {},
   "outputs": [
    {
     "data": {
      "text/plain": [
       "()"
      ]
     },
     "execution_count": 404,
     "metadata": {},
     "output_type": "execute_result"
    }
   ],
   "source": [
    "cursor.execute(insert_command)\n",
    "cursor.fetchall()"
   ]
  },
  {
   "cell_type": "markdown",
   "metadata": {},
   "source": [
    "\n",
    "IntegrityError: (1062, \"Duplicate entry '1204526484' for key '社会及ok.PRIMARY'\")"
   ]
  },
  {
   "cell_type": "markdown",
   "metadata": {},
   "source": [
    "#### 多条同时插入"
   ]
  },
  {
   "cell_type": "code",
   "execution_count": 12,
   "metadata": {},
   "outputs": [],
   "source": [
    "rows = [row1,row2,row3]"
   ]
  },
  {
   "cell_type": "code",
   "execution_count": 416,
   "metadata": {},
   "outputs": [
    {
     "data": {
      "text/plain": [
       "[{'secCode': '000039',\n",
       "  'secName': '中集集团',\n",
       "  'orgId': 'gssz0000039',\n",
       "  'announcementId': '1204526484',\n",
       "  'announcementTitle': '中集集团：2017年<em>社会</em>责任暨环境、<em>社会</em><em>及</em><em>管治</em>报告',\n",
       "  'announcement_title': '中集集团：2017年社会责任暨环境、社会及管治报告',\n",
       "  'announcementTime': 1522166400000,\n",
       "  'announcement_year': '2018',\n",
       "  'adjunctUrl': 'finalpage/2018-03-28/1204526484.PDF',\n",
       "  'record_time': '2023-01-18',\n",
       "  'pages_num': 81,\n",
       "  'words_num': 44213},\n",
       " {'secCode': '000039',\n",
       "  'secName': '中集集团',\n",
       "  'orgId': 'gssz0000039',\n",
       "  'announcementId': '1205949450',\n",
       "  'announcementTitle': '中集集团：2018<em>社会</em>责任暨环境、<em>社会</em><em>及</em><em>管治</em>报告',\n",
       "  'announcement_title': '中集集团：2018社会责任暨环境、社会及管治报告',\n",
       "  'announcementTime': 1553702400000,\n",
       "  'announcement_year': '2019',\n",
       "  'adjunctUrl': 'finalpage/2019-03-28/1205949450.PDF',\n",
       "  'record_time': '2023-01-18',\n",
       "  'pages_num': 100,\n",
       "  'words_num': 73065},\n",
       " {'secCode': '000039',\n",
       "  'secName': '中集集团',\n",
       "  'orgId': 'gssz0000039',\n",
       "  'announcementId': '1207411179',\n",
       "  'announcementTitle': '中集集团：<em>社会</em>责任暨环境、<em>社会</em><em>及</em><em>管治</em>报告（2019）',\n",
       "  'announcement_title': '中集集团：社会责任暨环境、社会及管治报告（2019）',\n",
       "  'announcementTime': 1585238400000,\n",
       "  'announcement_year': '2020',\n",
       "  'adjunctUrl': 'finalpage/2020-03-27/1207411179.PDF',\n",
       "  'record_time': '2023-01-18',\n",
       "  'pages_num': 92,\n",
       "  'words_num': 63008}]"
      ]
     },
     "execution_count": 416,
     "metadata": {},
     "output_type": "execute_result"
    }
   ],
   "source": [
    "rows"
   ]
  },
  {
   "cell_type": "code",
   "execution_count": 485,
   "metadata": {},
   "outputs": [
    {
     "data": {
      "text/plain": [
       "3"
      ]
     },
     "execution_count": 485,
     "metadata": {},
     "output_type": "execute_result"
    },
    {
     "name": "stdout",
     "output_type": "stream",
     "text": [
      "Ready to sleep 5s ...\n"
     ]
    }
   ],
   "source": [
    "cursor.execute(generate_insert_sql('社会及ok',rows))"
   ]
  },
  {
   "cell_type": "markdown",
   "metadata": {},
   "source": [
    "### 事务"
   ]
  },
  {
   "cell_type": "code",
   "execution_count": 407,
   "metadata": {},
   "outputs": [],
   "source": [
    "db.rollback()"
   ]
  },
  {
   "cell_type": "code",
   "execution_count": 507,
   "metadata": {},
   "outputs": [
    {
     "name": "stdout",
     "output_type": "stream",
     "text": [
      "Ready to sleep 5s ...\n"
     ]
    }
   ],
   "source": [
    "db.commit()"
   ]
  },
  {
   "cell_type": "code",
   "execution_count": 440,
   "metadata": {},
   "outputs": [],
   "source": [
    "db.close()"
   ]
  },
  {
   "cell_type": "markdown",
   "metadata": {},
   "source": [
    "### 查表"
   ]
  },
  {
   "cell_type": "code",
   "execution_count": 506,
   "metadata": {},
   "outputs": [
    {
     "name": "stdout",
     "output_type": "stream",
     "text": [
      "()\n",
      "0\n"
     ]
    },
    {
     "name": "stdout",
     "output_type": "stream",
     "text": [
      "Ready to sleep 5s ...\n"
     ]
    }
   ],
   "source": [
    "cursor.execute(\"SELECT * FROM 社会及ok\")\n",
    "res = cursor.fetchall()\n",
    "print(res)\n",
    "print(len(res))"
   ]
  },
  {
   "cell_type": "markdown",
   "metadata": {},
   "source": [
    "### 删除"
   ]
  },
  {
   "cell_type": "code",
   "execution_count": 505,
   "metadata": {},
   "outputs": [
    {
     "name": "stdout",
     "output_type": "stream",
     "text": [
      "Ready to sleep 5s ...\n"
     ]
    },
    {
     "data": {
      "text/plain": [
       "()"
      ]
     },
     "execution_count": 505,
     "metadata": {},
     "output_type": "execute_result"
    }
   ],
   "source": [
    "cursor.execute(\"DELETE FROM 社会及ok;\")\n",
    "cursor.fetchall()"
   ]
  },
  {
   "cell_type": "code",
   "execution_count": 258,
   "metadata": {},
   "outputs": [
    {
     "data": {
      "text/plain": [
       "(('000039',\n",
       "  '中集集团',\n",
       "  'gssz0000039',\n",
       "  '1204526484',\n",
       "  '中集集团：2017年<em>社会</em>责任暨环境、<em>社会</em><em>及</em><em>管治</em>报告',\n",
       "  '中集集团：2017年社会责任暨环境、社会及管治报告',\n",
       "  1522166400000,\n",
       "  2018,\n",
       "  'finalpage/2018-03-28/1204526484.PDF',\n",
       "  datetime.date(2023, 1, 18),\n",
       "  81,\n",
       "  44213),)"
      ]
     },
     "execution_count": 258,
     "metadata": {},
     "output_type": "execute_result"
    }
   ],
   "source": []
  },
  {
   "cell_type": "markdown",
   "metadata": {},
   "source": [
    "## "
   ]
  },
  {
   "cell_type": "markdown",
   "metadata": {},
   "source": [
    "### 将列表中的值写入对应的字典中"
   ]
  },
  {
   "cell_type": "code",
   "execution_count": 160,
   "metadata": {},
   "outputs": [
    {
     "data": {
      "text/plain": [
       "[{'pages_num': 0, 'words_num': 0},\n",
       " {'pages_num': 1, 'words_num': 1},\n",
       " {'pages_num': 2, 'words_num': 4},\n",
       " {'pages_num': 3, 'words_num': 9},\n",
       " {'pages_num': 4, 'words_num': 16},\n",
       " {'pages_num': 5, 'words_num': 25},\n",
       " {'pages_num': 6, 'words_num': 36},\n",
       " {'pages_num': 7, 'words_num': 49},\n",
       " {'pages_num': 8, 'words_num': 64},\n",
       " {'pages_num': 9, 'words_num': 81}]"
      ]
     },
     "execution_count": 160,
     "metadata": {},
     "output_type": "execute_result"
    }
   ],
   "source": [
    "pdfs_res = [{'pages_num':i,'words_num':i**2,} for i in range(10)]    # ['1','2','3','4','5','6','7','8',]\n",
    "pdfs_res"
   ]
  },
  {
   "cell_type": "code",
   "execution_count": 161,
   "metadata": {},
   "outputs": [
    {
     "data": {
      "text/plain": [
       "[{'id': -1, 'title': 'bea'},\n",
       " {'id': 0, 'title': 'bea'},\n",
       " {'id': 1, 'title': 'bea'},\n",
       " {'id': 2, 'title': 'bea'},\n",
       " {'id': 3, 'title': 'bea'},\n",
       " {'id': 4, 'title': 'bea'},\n",
       " {'id': 5, 'title': 'bea'},\n",
       " {'id': 6, 'title': 'bea'},\n",
       " {'id': 7, 'title': 'bea'},\n",
       " {'id': 8, 'title': 'bea'}]"
      ]
     },
     "execution_count": 161,
     "metadata": {},
     "output_type": "execute_result"
    }
   ],
   "source": [
    "raw_res = [{'id':i-1,'title':\"bea\",} for i in range(10)]    # ['1','2','3','4','5','6','7','8',]\n",
    "raw_res"
   ]
  },
  {
   "cell_type": "code",
   "execution_count": 165,
   "metadata": {},
   "outputs": [
    {
     "data": {
      "text/plain": [
       "[None, None, None, None, None, None, None, None, None, None]"
      ]
     },
     "execution_count": 165,
     "metadata": {},
     "output_type": "execute_result"
    }
   ],
   "source": [
    "[raw_re.update(pdf_res) for pdf_res,raw_re in zip(pdfs_res,raw_res) ]"
   ]
  },
  {
   "cell_type": "code",
   "execution_count": 166,
   "metadata": {},
   "outputs": [
    {
     "data": {
      "text/plain": [
       "<generator object <genexpr> at 0x7f804ecff660>"
      ]
     },
     "execution_count": 166,
     "metadata": {},
     "output_type": "execute_result"
    }
   ],
   "source": [
    "(raw_re.update(pdf_res) for pdf_res,raw_re in zip(pdfs_res,raw_res))"
   ]
  },
  {
   "cell_type": "code",
   "execution_count": 164,
   "metadata": {},
   "outputs": [
    {
     "data": {
      "text/plain": [
       "[{'id': -1, 'title': 'bea', 'pages_num': 0, 'words_num': 0},\n",
       " {'id': 0, 'title': 'bea', 'pages_num': 1, 'words_num': 1},\n",
       " {'id': 1, 'title': 'bea', 'pages_num': 2, 'words_num': 4},\n",
       " {'id': 2, 'title': 'bea', 'pages_num': 3, 'words_num': 9},\n",
       " {'id': 3, 'title': 'bea', 'pages_num': 4, 'words_num': 16},\n",
       " {'id': 4, 'title': 'bea', 'pages_num': 5, 'words_num': 25},\n",
       " {'id': 5, 'title': 'bea', 'pages_num': 6, 'words_num': 36},\n",
       " {'id': 6, 'title': 'bea', 'pages_num': 7, 'words_num': 49},\n",
       " {'id': 7, 'title': 'bea', 'pages_num': 8, 'words_num': 64},\n",
       " {'id': 8, 'title': 'bea', 'pages_num': 9, 'words_num': 81}]"
      ]
     },
     "execution_count": 164,
     "metadata": {},
     "output_type": "execute_result"
    }
   ],
   "source": [
    "raw_res"
   ]
  }
 ],
 "metadata": {
  "kernelspec": {
   "display_name": "Python 3.8.10 64-bit",
   "language": "python",
   "name": "python3"
  },
  "language_info": {
   "codemirror_mode": {
    "name": "ipython",
    "version": 3
   },
   "file_extension": ".py",
   "mimetype": "text/x-python",
   "name": "python",
   "nbconvert_exporter": "python",
   "pygments_lexer": "ipython3",
   "version": "3.8.10"
  },
  "orig_nbformat": 4,
  "vscode": {
   "interpreter": {
    "hash": "31f2aee4e71d21fbe5cf8b01ff0e069b9275f58929596ceb00d14d90e3e16cd6"
   }
  }
 },
 "nbformat": 4,
 "nbformat_minor": 2
}
